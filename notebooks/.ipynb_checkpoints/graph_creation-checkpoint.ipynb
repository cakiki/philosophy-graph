{
 "cells": [
  {
   "cell_type": "code",
   "execution_count": 7,
   "id": "typical-joshua",
   "metadata": {},
   "outputs": [
    {
     "data": {
      "text/html": [
       "<style>.container { width:95% !important; }</style>"
      ],
      "text/plain": [
       "<IPython.core.display.HTML object>"
      ]
     },
     "metadata": {},
     "output_type": "display_data"
    }
   ],
   "source": [
    "from IPython.core.display import HTML\n",
    "display(HTML(\"<style>.container { width:95% !important; }</style>\"))"
   ]
  },
  {
   "cell_type": "code",
   "execution_count": 8,
   "id": "eligible-flash",
   "metadata": {},
   "outputs": [],
   "source": [
    "import pandas as pd\n",
    "import numpy as np\n",
    "import networkx as nx\n",
    "from snapy import MinHash, LSH\n",
    "from node2vec import Node2Vec\n",
    "from itertools import chain\n",
    "from bs4 import BeautifulSoup"
   ]
  },
  {
   "cell_type": "code",
   "execution_count": 2,
   "id": "pending-firmware",
   "metadata": {},
   "outputs": [],
   "source": [
    "wiki_dataset = pd.read_pickle('../data/dbpedia_with_articles.pkl')\n",
    "plato_dataset = pd.read_pickle('../data/plato.pkl')"
   ]
  },
  {
   "cell_type": "code",
   "execution_count": 28,
   "id": "sophisticated-champagne",
   "metadata": {},
   "outputs": [],
   "source": [
    "entities = list(set(list(chain.from_iterable(plato_dataset.apply(lambda x: x['related_entries']+ [x['entity_name']], axis=1)))))\n",
    "philosophers = list(set(list(chain.from_iterable(dataset['undirected_influence'].dropna()))))\n",
    "entities.sort()\n",
    "philosophers.sort()"
   ]
  },
  {
   "cell_type": "code",
   "execution_count": 104,
   "id": "referenced-prevention",
   "metadata": {},
   "outputs": [],
   "source": [
    "# content = entities + philosophers\n",
    "# content = entities\n",
    "content = philosophers"
   ]
  },
  {
   "cell_type": "code",
   "execution_count": 105,
   "id": "whole-greek",
   "metadata": {},
   "outputs": [
    {
     "name": "stdout",
     "output_type": "stream",
     "text": [
      "Carl_F.H._Henry is probably similar to: ['Carl_F._H._Henry']\n",
      "Carl_F._H._Henry is probably similar to: ['Carl_F.H._Henry']\n",
      "Georg_Wilhelm_Friedrich_Hegel is probably similar to: ['George_Wilhelm_Friedrich_Hegel']\n",
      "George_Wilhelm_Friedrich_Hegel is probably similar to: ['Georg_Wilhelm_Friedrich_Hegel']\n",
      "Gottfried_Wilhelm_Leibniz is probably similar to: ['Gottfried_Wilhelm__Leibniz']\n",
      "Gottfried_Wilhelm__Leibniz is probably similar to: ['Gottfried_Wilhelm_Leibniz']\n",
      "Johannes_Scottus_Eriugena is probably similar to: ['Johannes_Scotus_Eriugena']\n",
      "Johannes_Scotus_Eriugena is probably similar to: ['Johannes_Scottus_Eriugena']\n",
      "Søren_Kierkegaard is probably similar to: ['Søren_Kierkegaard,']\n",
      "Søren_Kierkegaard, is probably similar to: ['Søren_Kierkegaard']\n",
      "CPU times: user 30.7 s, sys: 107 ms, total: 30.8 s\n",
      "Wall time: 30.8 s\n"
     ]
    }
   ],
   "source": [
    "%%time\n",
    "content_exploded = [' '.join(list(item)) for item in content]\n",
    "labels = list(range(len(content)))\n",
    "seed = 42\n",
    "minhash = MinHash(content_exploded, n_gram=3, permutations=250, hash_bits=64, seed=seed)\n",
    "lsh = LSH(minhash, labels, no_of_bands=50)\n",
    "adjacency_list = lsh.adjacency_list(min_jaccard=0.8)\n",
    "adjacency_list = {k:v for k,v in adjacency_list.items() if v}\n",
    "for k,v in adjacency_list.items():\n",
    "    print(f'{content[k]} is probably similar to: {[content[item] for item in v]}')"
   ]
  },
  {
   "cell_type": "code",
   "execution_count": 3,
   "id": "military-climb",
   "metadata": {},
   "outputs": [
    {
     "data": {
      "text/html": [
       "<div>\n",
       "<style scoped>\n",
       "    .dataframe tbody tr th:only-of-type {\n",
       "        vertical-align: middle;\n",
       "    }\n",
       "\n",
       "    .dataframe tbody tr th {\n",
       "        vertical-align: top;\n",
       "    }\n",
       "\n",
       "    .dataframe thead th {\n",
       "        text-align: right;\n",
       "    }\n",
       "</style>\n",
       "<table border=\"1\" class=\"dataframe\">\n",
       "  <thead>\n",
       "    <tr style=\"text-align: right;\">\n",
       "      <th></th>\n",
       "      <th>philosopher_url</th>\n",
       "      <th>name</th>\n",
       "      <th>abstract</th>\n",
       "      <th>notable_ideas</th>\n",
       "      <th>influence_inbound</th>\n",
       "      <th>influence_outbound</th>\n",
       "      <th>undirected_influence</th>\n",
       "      <th>text</th>\n",
       "    </tr>\n",
       "  </thead>\n",
       "  <tbody>\n",
       "    <tr>\n",
       "      <th>0</th>\n",
       "      <td>Stephen_Law</td>\n",
       "      <td>[Stephen Law]</td>\n",
       "      <td>Stephen Law  (born 1960) is an English philoso...</td>\n",
       "      <td>NaN</td>\n",
       "      <td>NaN</td>\n",
       "      <td>NaN</td>\n",
       "      <td>NaN</td>\n",
       "      <td>Stephen Law  (born 1960) is an English philoso...</td>\n",
       "    </tr>\n",
       "    <tr>\n",
       "      <th>1</th>\n",
       "      <td>Henry_S._Richardson</td>\n",
       "      <td>[Henry S. Richardson]</td>\n",
       "      <td>Henry S. Richardson is an American philosopher...</td>\n",
       "      <td>NaN</td>\n",
       "      <td>[John_Rawls]</td>\n",
       "      <td>NaN</td>\n",
       "      <td>[John_Rawls]</td>\n",
       "      <td>Henry S. Richardson is an American philosopher...</td>\n",
       "    </tr>\n",
       "    <tr>\n",
       "      <th>2</th>\n",
       "      <td>John_Amos_Comenius</td>\n",
       "      <td>[John Amos Comenius, Johann Amos Comenius]</td>\n",
       "      <td>John Amos Comenius (Czech: Jan Amos Komenský; ...</td>\n",
       "      <td>NaN</td>\n",
       "      <td>NaN</td>\n",
       "      <td>NaN</td>\n",
       "      <td>NaN</td>\n",
       "      <td>John Amos Comenius (Czech: Jan Amos Komenský; ...</td>\n",
       "    </tr>\n",
       "    <tr>\n",
       "      <th>3</th>\n",
       "      <td>Javier_Gomá</td>\n",
       "      <td>[Javier Gomá Lanzón]</td>\n",
       "      <td>Javier Gomá Lanzón (Bilbao, 24 May 1965) is a ...</td>\n",
       "      <td>NaN</td>\n",
       "      <td>NaN</td>\n",
       "      <td>NaN</td>\n",
       "      <td>NaN</td>\n",
       "      <td>Javier Gomá Lanzón (Bilbao, 24 May 1965) is a ...</td>\n",
       "    </tr>\n",
       "    <tr>\n",
       "      <th>4</th>\n",
       "      <td>Oskar_Negt</td>\n",
       "      <td>NaN</td>\n",
       "      <td>Oskar Negt (German pronunciation: [ˈneːkt]; bo...</td>\n",
       "      <td>NaN</td>\n",
       "      <td>NaN</td>\n",
       "      <td>NaN</td>\n",
       "      <td>NaN</td>\n",
       "      <td>Oskar Negt (German pronunciation: [ˈneːkt]; bo...</td>\n",
       "    </tr>\n",
       "    <tr>\n",
       "      <th>...</th>\n",
       "      <td>...</td>\n",
       "      <td>...</td>\n",
       "      <td>...</td>\n",
       "      <td>...</td>\n",
       "      <td>...</td>\n",
       "      <td>...</td>\n",
       "      <td>...</td>\n",
       "      <td>...</td>\n",
       "    </tr>\n",
       "    <tr>\n",
       "      <th>6084</th>\n",
       "      <td>Stanisław_Krajewski</td>\n",
       "      <td>NaN</td>\n",
       "      <td>Stanisław Krajewski (born 1950) is a Polish ph...</td>\n",
       "      <td>NaN</td>\n",
       "      <td>NaN</td>\n",
       "      <td>NaN</td>\n",
       "      <td>NaN</td>\n",
       "      <td>Stanisław Krajewski (born 1950) is a Polish ph...</td>\n",
       "    </tr>\n",
       "    <tr>\n",
       "      <th>6085</th>\n",
       "      <td>Patrick_Stokes_(philosopher)</td>\n",
       "      <td>[Patrick Stokes]</td>\n",
       "      <td>Patrick Stokes (born 1978) is an Australian ph...</td>\n",
       "      <td>NaN</td>\n",
       "      <td>NaN</td>\n",
       "      <td>NaN</td>\n",
       "      <td>NaN</td>\n",
       "      <td>Patrick Stokes (born 1978) is an Australian ph...</td>\n",
       "    </tr>\n",
       "    <tr>\n",
       "      <th>6086</th>\n",
       "      <td>Ernst_Mach</td>\n",
       "      <td>[Ernst Mach]</td>\n",
       "      <td>Ernst Waldfried Josef Wenzel Mach (; German: [...</td>\n",
       "      <td>NaN</td>\n",
       "      <td>[Gustav_Fechner, George_Berkeley, Andreas_von_...</td>\n",
       "      <td>[Pierre_Duhem, Henri_Poincaré, Ludwig_Boltzman...</td>\n",
       "      <td>[William_James, Friedrich_Hayek, Albert_Einste...</td>\n",
       "      <td>Ernst Waldfried Josef Wenzel Mach (; German: [...</td>\n",
       "    </tr>\n",
       "    <tr>\n",
       "      <th>6087</th>\n",
       "      <td>Jessica_Pierce</td>\n",
       "      <td>[Jessica Pierce]</td>\n",
       "      <td>Jessica Pierce (born October 21, 1965) is an A...</td>\n",
       "      <td>NaN</td>\n",
       "      <td>NaN</td>\n",
       "      <td>NaN</td>\n",
       "      <td>NaN</td>\n",
       "      <td>Jessica Pierce (born October 21, 1965) is an A...</td>\n",
       "    </tr>\n",
       "    <tr>\n",
       "      <th>6088</th>\n",
       "      <td>Hans-Georg_Gadamer</td>\n",
       "      <td>[Hans-Georg Gadamer]</td>\n",
       "      <td>Hans-Georg Gadamer (; German: [ˈɡaːdamɐ]; Febr...</td>\n",
       "      <td>[Consciousness, Fusion_of_horizons, Practical_...</td>\n",
       "      <td>[Wilhelm_Dilthey, Friedrich_Schleiermacher, Ka...</td>\n",
       "      <td>[Babette_Babich, John_McDowell, Reinhart_Kosel...</td>\n",
       "      <td>[Augustine, Paul_Natorp, Martin_Heidegger, Nic...</td>\n",
       "      <td>Hans-Georg Gadamer (; German: [ˈɡaːdamɐ]; Febr...</td>\n",
       "    </tr>\n",
       "  </tbody>\n",
       "</table>\n",
       "<p>6089 rows × 8 columns</p>\n",
       "</div>"
      ],
      "text/plain": [
       "                   philosopher_url  \\\n",
       "0                      Stephen_Law   \n",
       "1              Henry_S._Richardson   \n",
       "2               John_Amos_Comenius   \n",
       "3                      Javier_Gomá   \n",
       "4                       Oskar_Negt   \n",
       "...                            ...   \n",
       "6084           Stanisław_Krajewski   \n",
       "6085  Patrick_Stokes_(philosopher)   \n",
       "6086                    Ernst_Mach   \n",
       "6087                Jessica_Pierce   \n",
       "6088            Hans-Georg_Gadamer   \n",
       "\n",
       "                                            name  \\\n",
       "0                                  [Stephen Law]   \n",
       "1                          [Henry S. Richardson]   \n",
       "2     [John Amos Comenius, Johann Amos Comenius]   \n",
       "3                           [Javier Gomá Lanzón]   \n",
       "4                                            NaN   \n",
       "...                                          ...   \n",
       "6084                                         NaN   \n",
       "6085                            [Patrick Stokes]   \n",
       "6086                                [Ernst Mach]   \n",
       "6087                            [Jessica Pierce]   \n",
       "6088                        [Hans-Georg Gadamer]   \n",
       "\n",
       "                                               abstract  \\\n",
       "0     Stephen Law  (born 1960) is an English philoso...   \n",
       "1     Henry S. Richardson is an American philosopher...   \n",
       "2     John Amos Comenius (Czech: Jan Amos Komenský; ...   \n",
       "3     Javier Gomá Lanzón (Bilbao, 24 May 1965) is a ...   \n",
       "4     Oskar Negt (German pronunciation: [ˈneːkt]; bo...   \n",
       "...                                                 ...   \n",
       "6084  Stanisław Krajewski (born 1950) is a Polish ph...   \n",
       "6085  Patrick Stokes (born 1978) is an Australian ph...   \n",
       "6086  Ernst Waldfried Josef Wenzel Mach (; German: [...   \n",
       "6087  Jessica Pierce (born October 21, 1965) is an A...   \n",
       "6088  Hans-Georg Gadamer (; German: [ˈɡaːdamɐ]; Febr...   \n",
       "\n",
       "                                          notable_ideas  \\\n",
       "0                                                   NaN   \n",
       "1                                                   NaN   \n",
       "2                                                   NaN   \n",
       "3                                                   NaN   \n",
       "4                                                   NaN   \n",
       "...                                                 ...   \n",
       "6084                                                NaN   \n",
       "6085                                                NaN   \n",
       "6086                                                NaN   \n",
       "6087                                                NaN   \n",
       "6088  [Consciousness, Fusion_of_horizons, Practical_...   \n",
       "\n",
       "                                      influence_inbound  \\\n",
       "0                                                   NaN   \n",
       "1                                          [John_Rawls]   \n",
       "2                                                   NaN   \n",
       "3                                                   NaN   \n",
       "4                                                   NaN   \n",
       "...                                                 ...   \n",
       "6084                                                NaN   \n",
       "6085                                                NaN   \n",
       "6086  [Gustav_Fechner, George_Berkeley, Andreas_von_...   \n",
       "6087                                                NaN   \n",
       "6088  [Wilhelm_Dilthey, Friedrich_Schleiermacher, Ka...   \n",
       "\n",
       "                                     influence_outbound  \\\n",
       "0                                                   NaN   \n",
       "1                                                   NaN   \n",
       "2                                                   NaN   \n",
       "3                                                   NaN   \n",
       "4                                                   NaN   \n",
       "...                                                 ...   \n",
       "6084                                                NaN   \n",
       "6085                                                NaN   \n",
       "6086  [Pierre_Duhem, Henri_Poincaré, Ludwig_Boltzman...   \n",
       "6087                                                NaN   \n",
       "6088  [Babette_Babich, John_McDowell, Reinhart_Kosel...   \n",
       "\n",
       "                                   undirected_influence  \\\n",
       "0                                                   NaN   \n",
       "1                                          [John_Rawls]   \n",
       "2                                                   NaN   \n",
       "3                                                   NaN   \n",
       "4                                                   NaN   \n",
       "...                                                 ...   \n",
       "6084                                                NaN   \n",
       "6085                                                NaN   \n",
       "6086  [William_James, Friedrich_Hayek, Albert_Einste...   \n",
       "6087                                                NaN   \n",
       "6088  [Augustine, Paul_Natorp, Martin_Heidegger, Nic...   \n",
       "\n",
       "                                                   text  \n",
       "0     Stephen Law  (born 1960) is an English philoso...  \n",
       "1     Henry S. Richardson is an American philosopher...  \n",
       "2     John Amos Comenius (Czech: Jan Amos Komenský; ...  \n",
       "3     Javier Gomá Lanzón (Bilbao, 24 May 1965) is a ...  \n",
       "4     Oskar Negt (German pronunciation: [ˈneːkt]; bo...  \n",
       "...                                                 ...  \n",
       "6084  Stanisław Krajewski (born 1950) is a Polish ph...  \n",
       "6085  Patrick Stokes (born 1978) is an Australian ph...  \n",
       "6086  Ernst Waldfried Josef Wenzel Mach (; German: [...  \n",
       "6087  Jessica Pierce (born October 21, 1965) is an A...  \n",
       "6088  Hans-Georg Gadamer (; German: [ˈɡaːdamɐ]; Febr...  \n",
       "\n",
       "[6089 rows x 8 columns]"
      ]
     },
     "execution_count": 3,
     "metadata": {},
     "output_type": "execute_result"
    }
   ],
   "source": [
    "wiki_dataset"
   ]
  },
  {
   "cell_type": "code",
   "execution_count": 4,
   "id": "ambient-binary",
   "metadata": {},
   "outputs": [
    {
     "data": {
      "text/html": [
       "<div>\n",
       "<style scoped>\n",
       "    .dataframe tbody tr th:only-of-type {\n",
       "        vertical-align: middle;\n",
       "    }\n",
       "\n",
       "    .dataframe tbody tr th {\n",
       "        vertical-align: top;\n",
       "    }\n",
       "\n",
       "    .dataframe thead th {\n",
       "        text-align: right;\n",
       "    }\n",
       "</style>\n",
       "<table border=\"1\" class=\"dataframe\">\n",
       "  <thead>\n",
       "    <tr style=\"text-align: right;\">\n",
       "      <th></th>\n",
       "      <th>title</th>\n",
       "      <th>url</th>\n",
       "      <th>related_entries</th>\n",
       "      <th>abstract</th>\n",
       "      <th>publication_date</th>\n",
       "      <th>authors</th>\n",
       "      <th>full_article_with_tags</th>\n",
       "      <th>bibliography</th>\n",
       "      <th>entity_name</th>\n",
       "    </tr>\n",
       "  </thead>\n",
       "  <tbody>\n",
       "    <tr>\n",
       "      <th>0</th>\n",
       "      <td>Abduction</td>\n",
       "      <td>https://plato.stanford.edu/entries/abduction/</td>\n",
       "      <td>[epistemology-bayesian, induction-problem, pei...</td>\n",
       "      <td>In the philosophical literature, the term “abd...</td>\n",
       "      <td>2011/03/09</td>\n",
       "      <td>[Douven, Igor]</td>\n",
       "      <td>&lt;div id=\"main-text\"&gt;\\n\\n&lt;h2&gt;&lt;a name=\"AbdGenIde...</td>\n",
       "      <td>&lt;div id=\"bibliography\"&gt;\\n\\n&lt;h2&gt;&lt;a name=\"Bib\"&gt;B...</td>\n",
       "      <td>abduction</td>\n",
       "    </tr>\n",
       "    <tr>\n",
       "      <th>1</th>\n",
       "      <td>Affirmative Action</td>\n",
       "      <td>https://plato.stanford.edu/entries/affirmative...</td>\n",
       "      <td>[equality, equal-ed-opportunity, equal-opportu...</td>\n",
       "      <td>“Affirmative action” means positive steps take...</td>\n",
       "      <td>2001/12/28</td>\n",
       "      <td>[Fullinwider, Robert]</td>\n",
       "      <td>&lt;div id=\"main-text\"&gt;\\n\\n&lt;h2 id=\"Begi\"&gt;1. In th...</td>\n",
       "      <td>&lt;div id=\"bibliography\"&gt;\\n\\n&lt;h2 id=\"Bib\"&gt;Biblio...</td>\n",
       "      <td>affirmative-action</td>\n",
       "    </tr>\n",
       "    <tr>\n",
       "      <th>2</th>\n",
       "      <td>Aesthetics of the Everyday</td>\n",
       "      <td>https://plato.stanford.edu/entries/aesthetics-...</td>\n",
       "      <td>[adorno, aesthetic-judgment, environmental-aes...</td>\n",
       "      <td>In the history of Western aesthetics, the subj...</td>\n",
       "      <td>2015/09/30</td>\n",
       "      <td>[Saito, Yuriko]</td>\n",
       "      <td>&lt;div id=\"main-text\"&gt;\\n\\n&lt;h2&gt;&lt;a id=\"RecHis\"&gt;1. ...</td>\n",
       "      <td>&lt;div id=\"bibliography\"&gt;\\n\\n&lt;h2&gt;&lt;a id=\"Bib\"&gt;Bib...</td>\n",
       "      <td>aesthetics-of-everyday</td>\n",
       "    </tr>\n",
       "    <tr>\n",
       "      <th>3</th>\n",
       "      <td>Wittgenstein’s Aesthetics</td>\n",
       "      <td>https://plato.stanford.edu/entries/wittgenstei...</td>\n",
       "      <td>[wittgenstein]</td>\n",
       "      <td>Given the extreme importance that Wittgenstein...</td>\n",
       "      <td>2007/01/26</td>\n",
       "      <td>[Hagberg, Garry]</td>\n",
       "      <td>&lt;div id=\"main-text\"&gt;\\n\\n&lt;h2&gt;&lt;a name=\"CriTraAes...</td>\n",
       "      <td>&lt;div id=\"bibliography\"&gt;\\n\\n&lt;h2&gt;&lt;a name=\"Bib\"&gt;B...</td>\n",
       "      <td>wittgenstein-aesthetics</td>\n",
       "    </tr>\n",
       "    <tr>\n",
       "      <th>4</th>\n",
       "      <td>Schopenhauer’s Aesthetics</td>\n",
       "      <td>https://plato.stanford.edu/entries/schopenhaue...</td>\n",
       "      <td>[aesthetic-judgment, aesthetics-18th-german, k...</td>\n",
       "      <td>The focus of this entry is on Schopenhauer’s a...</td>\n",
       "      <td>2012/05/09</td>\n",
       "      <td>[Shapshay, Sandra]</td>\n",
       "      <td>&lt;div id=\"main-text\"&gt;\\n\\n&lt;h2&gt;&lt;a name=\"BriBac\"&gt;1...</td>\n",
       "      <td>&lt;div id=\"bibliography\"&gt;\\n\\n&lt;h2&gt;&lt;a name=\"Bib\"&gt;B...</td>\n",
       "      <td>schopenhauer-aesthetics</td>\n",
       "    </tr>\n",
       "    <tr>\n",
       "      <th>...</th>\n",
       "      <td>...</td>\n",
       "      <td>...</td>\n",
       "      <td>...</td>\n",
       "      <td>...</td>\n",
       "      <td>...</td>\n",
       "      <td>...</td>\n",
       "      <td>...</td>\n",
       "      <td>...</td>\n",
       "      <td>...</td>\n",
       "    </tr>\n",
       "    <tr>\n",
       "      <th>1699</th>\n",
       "      <td>Judah Abrabanel</td>\n",
       "      <td>https://plato.stanford.edu/entries/abrabanel/</td>\n",
       "      <td>[ficino, maimonides]</td>\n",
       "      <td>Judah Abrabanel (ca. 1465–after 1521), also kn...</td>\n",
       "      <td>2005/12/02</td>\n",
       "      <td>[Hughes, Aaron]</td>\n",
       "      <td>&lt;div id=\"main-text\"&gt;\\n\\n&lt;h2&gt;&lt;a name=\"LifWor\"&gt;1...</td>\n",
       "      <td>&lt;div id=\"bibliography\"&gt;\\n\\n&lt;h2&gt;&lt;a name=\"Bib\"&gt;B...</td>\n",
       "      <td>abrabanel</td>\n",
       "    </tr>\n",
       "    <tr>\n",
       "      <th>1700</th>\n",
       "      <td>Abner of Burgos</td>\n",
       "      <td>https://plato.stanford.edu/entries/abner-burgos/</td>\n",
       "      <td>[aristotle-natphil, crescas, determinism-causa...</td>\n",
       "      <td>Abner of Burgos (Alfonso de Valladolid; c. 126...</td>\n",
       "      <td>2012/07/09</td>\n",
       "      <td>[Sadik, Shalom]</td>\n",
       "      <td>&lt;div id=\"main-text\"&gt;\\n\\n&lt;h2 id=\"Life\"&gt;1. Life&lt;...</td>\n",
       "      <td>&lt;div id=\"bibliography\"&gt;\\n\\n&lt;h2 id=\"Bib\"&gt;Biblio...</td>\n",
       "      <td>abner-burgos</td>\n",
       "    </tr>\n",
       "    <tr>\n",
       "      <th>1701</th>\n",
       "      <td>Abhidharma</td>\n",
       "      <td>https://plato.stanford.edu/entries/abhidharma/</td>\n",
       "      <td>[atomism-modern, atomism-ancient, consciousnes...</td>\n",
       "      <td>The first centuries after Śākyamuni Buddha’s d...</td>\n",
       "      <td>2010/08/16</td>\n",
       "      <td>[Ronkin, Noa]</td>\n",
       "      <td>&lt;div id=\"main-text\"&gt;\\n\\n&lt;!--pdf include\\n&lt;br/&gt;...</td>\n",
       "      <td>&lt;div id=\"bibliography\"&gt;\\n\\n&lt;h2&gt;&lt;a name=\"Bib\"&gt;B...</td>\n",
       "      <td>abhidharma</td>\n",
       "    </tr>\n",
       "    <tr>\n",
       "      <th>1702</th>\n",
       "      <td>Peter Abelard</td>\n",
       "      <td>https://plato.stanford.edu/entries/abelard/</td>\n",
       "      <td>[aristotle-logic, mereology-medieval, relation...</td>\n",
       "      <td>Peter Abelard (1079–21 April 1142) [‘Abailard’...</td>\n",
       "      <td>2004/08/03</td>\n",
       "      <td>[King, Peter, Arlig, Andrew]</td>\n",
       "      <td>&lt;div id=\"main-text\"&gt;\\n\\n&lt;h2&gt;&lt;a name=\"LifWor\"&gt;1...</td>\n",
       "      <td>&lt;div id=\"bibliography\"&gt;\\n\\n&lt;h2&gt;&lt;a name=\"Bib\"&gt;B...</td>\n",
       "      <td>abelard</td>\n",
       "    </tr>\n",
       "    <tr>\n",
       "      <th>1703</th>\n",
       "      <td>Abilities</td>\n",
       "      <td>https://plato.stanford.edu/entries/abilities/</td>\n",
       "      <td>[action, compatibilism, conditionals, disposit...</td>\n",
       "      <td>In the accounts we give of one another, claims...</td>\n",
       "      <td>2010/01/26</td>\n",
       "      <td>[Maier, John]</td>\n",
       "      <td>&lt;div id=\"main-text\"&gt;\\n\\n&lt;h2&gt;&lt;a id=\"Tax\"&gt;1. A t...</td>\n",
       "      <td>&lt;div id=\"bibliography\"&gt;\\n\\n&lt;h2&gt;&lt;a id=\"Bib\"&gt;Bib...</td>\n",
       "      <td>abilities</td>\n",
       "    </tr>\n",
       "  </tbody>\n",
       "</table>\n",
       "<p>1704 rows × 9 columns</p>\n",
       "</div>"
      ],
      "text/plain": [
       "                           title  \\\n",
       "0                      Abduction   \n",
       "1             Affirmative Action   \n",
       "2     Aesthetics of the Everyday   \n",
       "3      Wittgenstein’s Aesthetics   \n",
       "4      Schopenhauer’s Aesthetics   \n",
       "...                          ...   \n",
       "1699             Judah Abrabanel   \n",
       "1700             Abner of Burgos   \n",
       "1701                  Abhidharma   \n",
       "1702               Peter Abelard   \n",
       "1703                   Abilities   \n",
       "\n",
       "                                                    url  \\\n",
       "0         https://plato.stanford.edu/entries/abduction/   \n",
       "1     https://plato.stanford.edu/entries/affirmative...   \n",
       "2     https://plato.stanford.edu/entries/aesthetics-...   \n",
       "3     https://plato.stanford.edu/entries/wittgenstei...   \n",
       "4     https://plato.stanford.edu/entries/schopenhaue...   \n",
       "...                                                 ...   \n",
       "1699      https://plato.stanford.edu/entries/abrabanel/   \n",
       "1700   https://plato.stanford.edu/entries/abner-burgos/   \n",
       "1701     https://plato.stanford.edu/entries/abhidharma/   \n",
       "1702        https://plato.stanford.edu/entries/abelard/   \n",
       "1703      https://plato.stanford.edu/entries/abilities/   \n",
       "\n",
       "                                        related_entries  \\\n",
       "0     [epistemology-bayesian, induction-problem, pei...   \n",
       "1     [equality, equal-ed-opportunity, equal-opportu...   \n",
       "2     [adorno, aesthetic-judgment, environmental-aes...   \n",
       "3                                        [wittgenstein]   \n",
       "4     [aesthetic-judgment, aesthetics-18th-german, k...   \n",
       "...                                                 ...   \n",
       "1699                               [ficino, maimonides]   \n",
       "1700  [aristotle-natphil, crescas, determinism-causa...   \n",
       "1701  [atomism-modern, atomism-ancient, consciousnes...   \n",
       "1702  [aristotle-logic, mereology-medieval, relation...   \n",
       "1703  [action, compatibilism, conditionals, disposit...   \n",
       "\n",
       "                                               abstract publication_date  \\\n",
       "0     In the philosophical literature, the term “abd...       2011/03/09   \n",
       "1     “Affirmative action” means positive steps take...       2001/12/28   \n",
       "2     In the history of Western aesthetics, the subj...       2015/09/30   \n",
       "3     Given the extreme importance that Wittgenstein...       2007/01/26   \n",
       "4     The focus of this entry is on Schopenhauer’s a...       2012/05/09   \n",
       "...                                                 ...              ...   \n",
       "1699  Judah Abrabanel (ca. 1465–after 1521), also kn...       2005/12/02   \n",
       "1700  Abner of Burgos (Alfonso de Valladolid; c. 126...       2012/07/09   \n",
       "1701  The first centuries after Śākyamuni Buddha’s d...       2010/08/16   \n",
       "1702  Peter Abelard (1079–21 April 1142) [‘Abailard’...       2004/08/03   \n",
       "1703  In the accounts we give of one another, claims...       2010/01/26   \n",
       "\n",
       "                           authors  \\\n",
       "0                   [Douven, Igor]   \n",
       "1            [Fullinwider, Robert]   \n",
       "2                  [Saito, Yuriko]   \n",
       "3                 [Hagberg, Garry]   \n",
       "4               [Shapshay, Sandra]   \n",
       "...                            ...   \n",
       "1699               [Hughes, Aaron]   \n",
       "1700               [Sadik, Shalom]   \n",
       "1701                 [Ronkin, Noa]   \n",
       "1702  [King, Peter, Arlig, Andrew]   \n",
       "1703                 [Maier, John]   \n",
       "\n",
       "                                 full_article_with_tags  \\\n",
       "0     <div id=\"main-text\">\\n\\n<h2><a name=\"AbdGenIde...   \n",
       "1     <div id=\"main-text\">\\n\\n<h2 id=\"Begi\">1. In th...   \n",
       "2     <div id=\"main-text\">\\n\\n<h2><a id=\"RecHis\">1. ...   \n",
       "3     <div id=\"main-text\">\\n\\n<h2><a name=\"CriTraAes...   \n",
       "4     <div id=\"main-text\">\\n\\n<h2><a name=\"BriBac\">1...   \n",
       "...                                                 ...   \n",
       "1699  <div id=\"main-text\">\\n\\n<h2><a name=\"LifWor\">1...   \n",
       "1700  <div id=\"main-text\">\\n\\n<h2 id=\"Life\">1. Life<...   \n",
       "1701  <div id=\"main-text\">\\n\\n<!--pdf include\\n<br/>...   \n",
       "1702  <div id=\"main-text\">\\n\\n<h2><a name=\"LifWor\">1...   \n",
       "1703  <div id=\"main-text\">\\n\\n<h2><a id=\"Tax\">1. A t...   \n",
       "\n",
       "                                           bibliography  \\\n",
       "0     <div id=\"bibliography\">\\n\\n<h2><a name=\"Bib\">B...   \n",
       "1     <div id=\"bibliography\">\\n\\n<h2 id=\"Bib\">Biblio...   \n",
       "2     <div id=\"bibliography\">\\n\\n<h2><a id=\"Bib\">Bib...   \n",
       "3     <div id=\"bibliography\">\\n\\n<h2><a name=\"Bib\">B...   \n",
       "4     <div id=\"bibliography\">\\n\\n<h2><a name=\"Bib\">B...   \n",
       "...                                                 ...   \n",
       "1699  <div id=\"bibliography\">\\n\\n<h2><a name=\"Bib\">B...   \n",
       "1700  <div id=\"bibliography\">\\n\\n<h2 id=\"Bib\">Biblio...   \n",
       "1701  <div id=\"bibliography\">\\n\\n<h2><a name=\"Bib\">B...   \n",
       "1702  <div id=\"bibliography\">\\n\\n<h2><a name=\"Bib\">B...   \n",
       "1703  <div id=\"bibliography\">\\n\\n<h2><a id=\"Bib\">Bib...   \n",
       "\n",
       "                  entity_name  \n",
       "0                   abduction  \n",
       "1          affirmative-action  \n",
       "2      aesthetics-of-everyday  \n",
       "3     wittgenstein-aesthetics  \n",
       "4     schopenhauer-aesthetics  \n",
       "...                       ...  \n",
       "1699                abrabanel  \n",
       "1700             abner-burgos  \n",
       "1701               abhidharma  \n",
       "1702                  abelard  \n",
       "1703                abilities  \n",
       "\n",
       "[1704 rows x 9 columns]"
      ]
     },
     "execution_count": 4,
     "metadata": {},
     "output_type": "execute_result"
    }
   ],
   "source": [
    "plato_dataset"
   ]
  },
  {
   "cell_type": "code",
   "execution_count": 5,
   "id": "prepared-acting",
   "metadata": {},
   "outputs": [],
   "source": [
    "plato_network = plato_dataset[['entity_name', 'related_entries']].dropna()\n",
    "wiki_network = wiki_dataset[['philosopher_url', 'undirected_influence']].dropna()"
   ]
  },
  {
   "cell_type": "code",
   "execution_count": 6,
   "id": "brilliant-longitude",
   "metadata": {},
   "outputs": [],
   "source": [
    "graph_plato = nx.Graph(plato_network.set_index('entity_name').to_dict()['related_entries'])\n",
    "graph_wiki = nx.Graph(wiki_network.set_index('philosopher_url').to_dict()['undirected_influence'])"
   ]
  },
  {
   "cell_type": "code",
   "execution_count": 10,
   "id": "virtual-technology",
   "metadata": {},
   "outputs": [
    {
     "data": {
      "application/vnd.jupyter.widget-view+json": {
       "model_id": "37d815ddf6d949b39c31be47c8e888eb",
       "version_major": 2,
       "version_minor": 0
      },
      "text/plain": [
       "Computing transition probabilities:   0%|          | 0/1704 [00:00<?, ?it/s]"
      ]
     },
     "metadata": {},
     "output_type": "display_data"
    },
    {
     "name": "stderr",
     "output_type": "stream",
     "text": [
      "Generating walks (CPU: 1): 100%|██████████| 200/200 [22:35<00:00,  6.78s/it]\n"
     ]
    },
    {
     "data": {
      "application/vnd.jupyter.widget-view+json": {
       "model_id": "eef70f9f9ec24eb58da3c6d50f1ae173",
       "version_major": 2,
       "version_minor": 0
      },
      "text/plain": [
       "Computing transition probabilities:   0%|          | 0/1704 [00:00<?, ?it/s]"
      ]
     },
     "metadata": {},
     "output_type": "display_data"
    },
    {
     "name": "stderr",
     "output_type": "stream",
     "text": [
      "Generating walks (CPU: 1): 100%|██████████| 200/200 [22:34<00:00,  6.77s/it]\n"
     ]
    },
    {
     "data": {
      "application/vnd.jupyter.widget-view+json": {
       "model_id": "3a0609d99ff34d1682d75bf7c1155dc3",
       "version_major": 2,
       "version_minor": 0
      },
      "text/plain": [
       "Computing transition probabilities:   0%|          | 0/5989 [00:00<?, ?it/s]"
      ]
     },
     "metadata": {},
     "output_type": "display_data"
    },
    {
     "name": "stderr",
     "output_type": "stream",
     "text": [
      "Generating walks (CPU: 1): 100%|██████████| 200/200 [1:19:28<00:00, 23.84s/it]\n"
     ]
    },
    {
     "data": {
      "application/vnd.jupyter.widget-view+json": {
       "model_id": "f63b5db0e5a34abeadbdeb3aedc5df37",
       "version_major": 2,
       "version_minor": 0
      },
      "text/plain": [
       "Computing transition probabilities:   0%|          | 0/5989 [00:00<?, ?it/s]"
      ]
     },
     "metadata": {},
     "output_type": "display_data"
    },
    {
     "name": "stderr",
     "output_type": "stream",
     "text": [
      "Generating walks (CPU: 1): 100%|██████████| 200/200 [1:21:01<00:00, 24.31s/it]"
     ]
    },
    {
     "name": "stdout",
     "output_type": "stream",
     "text": [
      "CPU times: user 3h 26min 51s, sys: 4min 29s, total: 3h 31min 20s\n",
      "Wall time: 3h 25min 52s\n"
     ]
    },
    {
     "name": "stderr",
     "output_type": "stream",
     "text": [
      "\n"
     ]
    }
   ],
   "source": [
    "%%time\n",
    "sentences_homophily_plato = Node2Vec(graph_plato, dimensions=128, p=1, q=0.5, walk_length=100, num_walks=200, workers=1)\n",
    "sentences_structural_plato = Node2Vec(graph_plato, dimensions=128, p=1, q=2, walk_length=100, num_walks=200, workers=1)\n",
    "sentences_homophily_wiki = Node2Vec(graph_wiki, dimensions=128, p=1, q=0.5, walk_length=100, num_walks=200, workers=1)\n",
    "sentences_structural_wiki = Node2Vec(graph_wiki, dimensions=128, p=1, q=2, walk_length=100, num_walks=200, workers=1)"
   ]
  },
  {
   "cell_type": "code",
   "execution_count": 11,
   "id": "nonprofit-electronics",
   "metadata": {},
   "outputs": [
    {
     "name": "stdout",
     "output_type": "stream",
     "text": [
      "CPU times: user 5min 26s, sys: 6.02 s, total: 5min 32s\n",
      "Wall time: 5min 24s\n"
     ]
    }
   ],
   "source": [
    "%%time\n",
    "model_structural_plato = sentences_structural_plato.fit(window=16, min_count=1, batch_words=64, workers=-1)\n",
    "model_homophily_plato = sentences_homophily_plato.fit(window=16, min_count=1, batch_words=64, workers=-1)\n",
    "model_structural_wiki = sentences_structural_wiki.fit(window=16, min_count=1, batch_words=64, workers=-1)\n",
    "model_homophily_wiki = sentences_homophily_wiki.fit(window=16, min_count=1, batch_words=64, workers=-1)"
   ]
  },
  {
   "cell_type": "code",
   "execution_count": 13,
   "id": "knowing-reaction",
   "metadata": {},
   "outputs": [
    {
     "data": {
      "text/plain": [
       "(1704, 128)"
      ]
     },
     "execution_count": 13,
     "metadata": {},
     "output_type": "execute_result"
    }
   ],
   "source": [
    "structural_plato_dict = {node:model_structural_plato.wv[node] for node in graph_plato.nodes}\n",
    "nodes, structural_plato_embeddings = list(pd.DataFrame(structural_plato_dict).T.index), pd.DataFrame(structural_plato_dict).T.values\n",
    "structural_plato_embeddings.shape"
   ]
  },
  {
   "cell_type": "code",
   "execution_count": 15,
   "id": "environmental-duration",
   "metadata": {},
   "outputs": [
    {
     "data": {
      "text/plain": [
       "(1704, 128)"
      ]
     },
     "execution_count": 15,
     "metadata": {},
     "output_type": "execute_result"
    }
   ],
   "source": [
    "homophily_plato_dict = {node:model_homophily_plato.wv[node] for node in graph_plato.nodes}\n",
    "nodes, homophily_plato_embeddings = list(pd.DataFrame(homophily_plato_dict).T.index), pd.DataFrame(homophily_plato_dict).T.values\n",
    "homophily_plato_embeddings.shape"
   ]
  },
  {
   "cell_type": "code",
   "execution_count": 16,
   "id": "honest-occurrence",
   "metadata": {},
   "outputs": [
    {
     "data": {
      "text/plain": [
       "(5989, 128)"
      ]
     },
     "execution_count": 16,
     "metadata": {},
     "output_type": "execute_result"
    }
   ],
   "source": [
    "structural_wiki_dict = {node:model_structural_wiki.wv[node] for node in graph_wiki.nodes}\n",
    "nodes, structural_wiki_embeddings = list(pd.DataFrame(structural_wiki_dict).T.index), pd.DataFrame(structural_wiki_dict).T.values\n",
    "structural_wiki_embeddings.shape"
   ]
  },
  {
   "cell_type": "code",
   "execution_count": 17,
   "id": "unnecessary-invalid",
   "metadata": {},
   "outputs": [
    {
     "data": {
      "text/plain": [
       "(5989, 128)"
      ]
     },
     "execution_count": 17,
     "metadata": {},
     "output_type": "execute_result"
    }
   ],
   "source": [
    "homophily_wiki_dict = {node:model_homophily_wiki.wv[node] for node in graph_wiki.nodes}\n",
    "nodes, homophily_wiki_embeddings = list(pd.DataFrame(homophily_wiki_dict).T.index), pd.DataFrame(homophily_wiki_dict).T.values\n",
    "homophily_wiki_embeddings.shape"
   ]
  },
  {
   "cell_type": "code",
   "execution_count": 19,
   "id": "defined-honduras",
   "metadata": {},
   "outputs": [],
   "source": [
    "with open('../data/structural_plato_dict.npy', 'wb') as f:\n",
    "    np.save(f, structural_plato_embeddings)\n",
    "with open('../data/homophily_plato_dict.npy', 'wb') as f:\n",
    "    np.save(f, homophily_plato_embeddings)\n",
    "with open('../data/structural_wiki_dict.npy', 'wb') as f:\n",
    "    np.save(f, structural_wiki_embeddings)\n",
    "with open('../data/structural_wiki_dict.npy', 'wb') as f:\n",
    "    np.save(f, homophily_wiki_embeddings)"
   ]
  },
  {
   "cell_type": "code",
   "execution_count": 25,
   "id": "dressed-silence",
   "metadata": {},
   "outputs": [
    {
     "data": {
      "text/html": [
       "<div>\n",
       "<style scoped>\n",
       "    .dataframe tbody tr th:only-of-type {\n",
       "        vertical-align: middle;\n",
       "    }\n",
       "\n",
       "    .dataframe tbody tr th {\n",
       "        vertical-align: top;\n",
       "    }\n",
       "\n",
       "    .dataframe thead th {\n",
       "        text-align: right;\n",
       "    }\n",
       "</style>\n",
       "<table border=\"1\" class=\"dataframe\">\n",
       "  <thead>\n",
       "    <tr style=\"text-align: right;\">\n",
       "      <th></th>\n",
       "      <th>0</th>\n",
       "    </tr>\n",
       "  </thead>\n",
       "  <tbody>\n",
       "    <tr>\n",
       "      <th>0</th>\n",
       "      <td>Henry_S._Richardson</td>\n",
       "    </tr>\n",
       "    <tr>\n",
       "      <th>1</th>\n",
       "      <td>Gillian_Rose</td>\n",
       "    </tr>\n",
       "    <tr>\n",
       "      <th>2</th>\n",
       "      <td>Alexander_Zinoviev</td>\n",
       "    </tr>\n",
       "    <tr>\n",
       "      <th>3</th>\n",
       "      <td>Sextus_of_Chaeronea</td>\n",
       "    </tr>\n",
       "    <tr>\n",
       "      <th>4</th>\n",
       "      <td>Alexander_Potebnja</td>\n",
       "    </tr>\n",
       "    <tr>\n",
       "      <th>...</th>\n",
       "      <td>...</td>\n",
       "    </tr>\n",
       "    <tr>\n",
       "      <th>5984</th>\n",
       "      <td>Julian_Barbour</td>\n",
       "    </tr>\n",
       "    <tr>\n",
       "      <th>5985</th>\n",
       "      <td>Wilhelm_Kienzl</td>\n",
       "    </tr>\n",
       "    <tr>\n",
       "      <th>5986</th>\n",
       "      <td>Andreas_von_Ettingshausen</td>\n",
       "    </tr>\n",
       "    <tr>\n",
       "      <th>5987</th>\n",
       "      <td>Hans_Robert_Jauss</td>\n",
       "    </tr>\n",
       "    <tr>\n",
       "      <th>5988</th>\n",
       "      <td>Wolfgang_Drechsler</td>\n",
       "    </tr>\n",
       "  </tbody>\n",
       "</table>\n",
       "<p>5989 rows × 1 columns</p>\n",
       "</div>"
      ],
      "text/plain": [
       "                              0\n",
       "0           Henry_S._Richardson\n",
       "1                  Gillian_Rose\n",
       "2            Alexander_Zinoviev\n",
       "3           Sextus_of_Chaeronea\n",
       "4            Alexander_Potebnja\n",
       "...                         ...\n",
       "5984             Julian_Barbour\n",
       "5985             Wilhelm_Kienzl\n",
       "5986  Andreas_von_Ettingshausen\n",
       "5987          Hans_Robert_Jauss\n",
       "5988         Wolfgang_Drechsler\n",
       "\n",
       "[5989 rows x 1 columns]"
      ]
     },
     "execution_count": 25,
     "metadata": {},
     "output_type": "execute_result"
    }
   ],
   "source": [
    "pd.DataFrame(nodes)"
   ]
  },
  {
   "cell_type": "code",
   "execution_count": 26,
   "id": "adult-patrol",
   "metadata": {},
   "outputs": [
    {
     "data": {
      "text/html": [
       "<div>\n",
       "<style scoped>\n",
       "    .dataframe tbody tr th:only-of-type {\n",
       "        vertical-align: middle;\n",
       "    }\n",
       "\n",
       "    .dataframe tbody tr th {\n",
       "        vertical-align: top;\n",
       "    }\n",
       "\n",
       "    .dataframe thead th {\n",
       "        text-align: right;\n",
       "    }\n",
       "</style>\n",
       "<table border=\"1\" class=\"dataframe\">\n",
       "  <thead>\n",
       "    <tr style=\"text-align: right;\">\n",
       "      <th></th>\n",
       "      <th>0</th>\n",
       "    </tr>\n",
       "  </thead>\n",
       "  <tbody>\n",
       "    <tr>\n",
       "      <th>0</th>\n",
       "      <td>Henry_S._Richardson</td>\n",
       "    </tr>\n",
       "    <tr>\n",
       "      <th>1</th>\n",
       "      <td>Gillian_Rose</td>\n",
       "    </tr>\n",
       "    <tr>\n",
       "      <th>2</th>\n",
       "      <td>Alexander_Zinoviev</td>\n",
       "    </tr>\n",
       "    <tr>\n",
       "      <th>3</th>\n",
       "      <td>Sextus_of_Chaeronea</td>\n",
       "    </tr>\n",
       "    <tr>\n",
       "      <th>4</th>\n",
       "      <td>Alexander_Potebnja</td>\n",
       "    </tr>\n",
       "    <tr>\n",
       "      <th>...</th>\n",
       "      <td>...</td>\n",
       "    </tr>\n",
       "    <tr>\n",
       "      <th>5984</th>\n",
       "      <td>Julian_Barbour</td>\n",
       "    </tr>\n",
       "    <tr>\n",
       "      <th>5985</th>\n",
       "      <td>Wilhelm_Kienzl</td>\n",
       "    </tr>\n",
       "    <tr>\n",
       "      <th>5986</th>\n",
       "      <td>Andreas_von_Ettingshausen</td>\n",
       "    </tr>\n",
       "    <tr>\n",
       "      <th>5987</th>\n",
       "      <td>Hans_Robert_Jauss</td>\n",
       "    </tr>\n",
       "    <tr>\n",
       "      <th>5988</th>\n",
       "      <td>Wolfgang_Drechsler</td>\n",
       "    </tr>\n",
       "  </tbody>\n",
       "</table>\n",
       "<p>5989 rows × 1 columns</p>\n",
       "</div>"
      ],
      "text/plain": [
       "                              0\n",
       "0           Henry_S._Richardson\n",
       "1                  Gillian_Rose\n",
       "2            Alexander_Zinoviev\n",
       "3           Sextus_of_Chaeronea\n",
       "4            Alexander_Potebnja\n",
       "...                         ...\n",
       "5984             Julian_Barbour\n",
       "5985             Wilhelm_Kienzl\n",
       "5986  Andreas_von_Ettingshausen\n",
       "5987          Hans_Robert_Jauss\n",
       "5988         Wolfgang_Drechsler\n",
       "\n",
       "[5989 rows x 1 columns]"
      ]
     },
     "execution_count": 26,
     "metadata": {},
     "output_type": "execute_result"
    }
   ],
   "source": [
    "pd.DataFrame(graph_wiki.nodes)"
   ]
  },
  {
   "cell_type": "code",
   "execution_count": null,
   "id": "removable-force",
   "metadata": {},
   "outputs": [],
   "source": []
  }
 ],
 "metadata": {
  "kernelspec": {
   "display_name": "Python 3",
   "language": "python",
   "name": "python3"
  },
  "language_info": {
   "codemirror_mode": {
    "name": "ipython",
    "version": 3
   },
   "file_extension": ".py",
   "mimetype": "text/x-python",
   "name": "python",
   "nbconvert_exporter": "python",
   "pygments_lexer": "ipython3",
   "version": "3.8.6"
  }
 },
 "nbformat": 4,
 "nbformat_minor": 5
}
