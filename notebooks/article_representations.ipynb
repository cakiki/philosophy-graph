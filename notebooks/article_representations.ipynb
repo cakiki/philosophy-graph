{
 "cells": [
  {
   "cell_type": "markdown",
   "metadata": {},
   "source": [
    "⚠️ This notebook is meant to be run on a GPU ⚠️"
   ]
  },
  {
   "cell_type": "code",
   "execution_count": 1,
   "metadata": {},
   "outputs": [
    {
     "data": {
      "text/html": [
       "<style>.container { width:95% !important; }</style>"
      ],
      "text/plain": [
       "<IPython.core.display.HTML object>"
      ]
     },
     "metadata": {},
     "output_type": "display_data"
    }
   ],
   "source": [
    "from IPython.core.display import HTML\n",
    "display(HTML(\"<style>.container { width:95% !important; }</style>\"))"
   ]
  },
  {
   "cell_type": "code",
   "execution_count": 8,
   "metadata": {},
   "outputs": [
    {
     "name": "stdout",
     "output_type": "stream",
     "text": [
      "\u001b[33mWARNING: You are using pip version 20.2.4; however, version 21.0.1 is available.\r\n",
      "You should consider upgrading via the '/usr/bin/python3 -m pip install --upgrade pip' command.\u001b[0m\r\n"
     ]
    }
   ],
   "source": [
    "!pip install -q torch"
   ]
  },
  {
   "cell_type": "code",
   "execution_count": 2,
   "metadata": {},
   "outputs": [],
   "source": [
    "import pandas as pd\n",
    "import numpy as np\n",
    "import tensorflow as tf\n",
    "import tensorflow_hub as hub\n",
    "from transformers import AutoTokenizer, TFAutoModel"
   ]
  },
  {
   "cell_type": "code",
   "execution_count": 3,
   "metadata": {},
   "outputs": [
    {
     "data": {
      "text/html": [
       "<div>\n",
       "<style scoped>\n",
       "    .dataframe tbody tr th:only-of-type {\n",
       "        vertical-align: middle;\n",
       "    }\n",
       "\n",
       "    .dataframe tbody tr th {\n",
       "        vertical-align: top;\n",
       "    }\n",
       "\n",
       "    .dataframe thead th {\n",
       "        text-align: right;\n",
       "    }\n",
       "</style>\n",
       "<table border=\"1\" class=\"dataframe\">\n",
       "  <thead>\n",
       "    <tr style=\"text-align: right;\">\n",
       "      <th></th>\n",
       "      <th>index</th>\n",
       "      <th>id</th>\n",
       "      <th>title</th>\n",
       "      <th>abstract</th>\n",
       "      <th>text</th>\n",
       "    </tr>\n",
       "  </thead>\n",
       "  <tbody>\n",
       "    <tr>\n",
       "      <th>0</th>\n",
       "      <td>0</td>\n",
       "      <td>P0</td>\n",
       "      <td>Abduction</td>\n",
       "      <td>In the philosophical literature, the term “abd...</td>\n",
       "      <td>\\n1. Abduction: The General Idea\\n\\nYou happen...</td>\n",
       "    </tr>\n",
       "    <tr>\n",
       "      <th>1</th>\n",
       "      <td>1</td>\n",
       "      <td>P1</td>\n",
       "      <td>Affirmative Action</td>\n",
       "      <td>“Affirmative action” means positive steps take...</td>\n",
       "      <td>\\n1. In the Beginning\\n\\n\\nIn 1972, affirmativ...</td>\n",
       "    </tr>\n",
       "    <tr>\n",
       "      <th>2</th>\n",
       "      <td>2</td>\n",
       "      <td>P2</td>\n",
       "      <td>Aesthetics of the Everyday</td>\n",
       "      <td>In the history of Western aesthetics, the subj...</td>\n",
       "      <td>\\n1. Recent History\\n\\nWith the establishment ...</td>\n",
       "    </tr>\n",
       "    <tr>\n",
       "      <th>3</th>\n",
       "      <td>3</td>\n",
       "      <td>P3</td>\n",
       "      <td>Wittgenstein’s Aesthetics</td>\n",
       "      <td>Given the extreme importance that Wittgenstein...</td>\n",
       "      <td>\\n1. The Critique of Traditional Aesthetics\\n\\...</td>\n",
       "    </tr>\n",
       "    <tr>\n",
       "      <th>4</th>\n",
       "      <td>4</td>\n",
       "      <td>P4</td>\n",
       "      <td>Schopenhauer’s Aesthetics</td>\n",
       "      <td>The focus of this entry is on Schopenhauer’s a...</td>\n",
       "      <td>\\n1. Brief Background\\n\\n\\nBy the 1870s, Arthu...</td>\n",
       "    </tr>\n",
       "    <tr>\n",
       "      <th>...</th>\n",
       "      <td>...</td>\n",
       "      <td>...</td>\n",
       "      <td>...</td>\n",
       "      <td>...</td>\n",
       "      <td>...</td>\n",
       "    </tr>\n",
       "    <tr>\n",
       "      <th>7216</th>\n",
       "      <td>6084</td>\n",
       "      <td>W6084</td>\n",
       "      <td>Stanisław Krajewski</td>\n",
       "      <td>Stanisław Krajewski (born 1950) is a Polish ph...</td>\n",
       "      <td>Stanisław Krajewski (born 1950) is a Polish ph...</td>\n",
       "    </tr>\n",
       "    <tr>\n",
       "      <th>7217</th>\n",
       "      <td>6085</td>\n",
       "      <td>W6085</td>\n",
       "      <td>Patrick Stokes (philosopher)</td>\n",
       "      <td>Patrick Stokes (born 1978) is an Australian ph...</td>\n",
       "      <td>Patrick Stokes (born 1978) is an Australian ph...</td>\n",
       "    </tr>\n",
       "    <tr>\n",
       "      <th>7218</th>\n",
       "      <td>6086</td>\n",
       "      <td>W6086</td>\n",
       "      <td>Ernst Mach</td>\n",
       "      <td>Ernst Waldfried Josef Wenzel Mach (; German: [...</td>\n",
       "      <td>Ernst Waldfried Josef Wenzel Mach (; German: [...</td>\n",
       "    </tr>\n",
       "    <tr>\n",
       "      <th>7219</th>\n",
       "      <td>6087</td>\n",
       "      <td>W6087</td>\n",
       "      <td>Jessica Pierce</td>\n",
       "      <td>Jessica Pierce (born October 21, 1965) is an A...</td>\n",
       "      <td>Jessica Pierce (born October 21, 1965) is an A...</td>\n",
       "    </tr>\n",
       "    <tr>\n",
       "      <th>7220</th>\n",
       "      <td>6088</td>\n",
       "      <td>W6088</td>\n",
       "      <td>Hans-Georg Gadamer</td>\n",
       "      <td>Hans-Georg Gadamer (; German: [ˈɡaːdamɐ]; Febr...</td>\n",
       "      <td>Hans-Georg Gadamer (; German: [ˈɡaːdamɐ]; Febr...</td>\n",
       "    </tr>\n",
       "  </tbody>\n",
       "</table>\n",
       "<p>7221 rows × 5 columns</p>\n",
       "</div>"
      ],
      "text/plain": [
       "      index     id                         title  \\\n",
       "0         0     P0                     Abduction   \n",
       "1         1     P1            Affirmative Action   \n",
       "2         2     P2    Aesthetics of the Everyday   \n",
       "3         3     P3     Wittgenstein’s Aesthetics   \n",
       "4         4     P4     Schopenhauer’s Aesthetics   \n",
       "...     ...    ...                           ...   \n",
       "7216   6084  W6084           Stanisław Krajewski   \n",
       "7217   6085  W6085  Patrick Stokes (philosopher)   \n",
       "7218   6086  W6086                    Ernst Mach   \n",
       "7219   6087  W6087                Jessica Pierce   \n",
       "7220   6088  W6088            Hans-Georg Gadamer   \n",
       "\n",
       "                                               abstract  \\\n",
       "0     In the philosophical literature, the term “abd...   \n",
       "1     “Affirmative action” means positive steps take...   \n",
       "2     In the history of Western aesthetics, the subj...   \n",
       "3     Given the extreme importance that Wittgenstein...   \n",
       "4     The focus of this entry is on Schopenhauer’s a...   \n",
       "...                                                 ...   \n",
       "7216  Stanisław Krajewski (born 1950) is a Polish ph...   \n",
       "7217  Patrick Stokes (born 1978) is an Australian ph...   \n",
       "7218  Ernst Waldfried Josef Wenzel Mach (; German: [...   \n",
       "7219  Jessica Pierce (born October 21, 1965) is an A...   \n",
       "7220  Hans-Georg Gadamer (; German: [ˈɡaːdamɐ]; Febr...   \n",
       "\n",
       "                                                   text  \n",
       "0     \\n1. Abduction: The General Idea\\n\\nYou happen...  \n",
       "1     \\n1. In the Beginning\\n\\n\\nIn 1972, affirmativ...  \n",
       "2     \\n1. Recent History\\n\\nWith the establishment ...  \n",
       "3     \\n1. The Critique of Traditional Aesthetics\\n\\...  \n",
       "4     \\n1. Brief Background\\n\\n\\nBy the 1870s, Arthu...  \n",
       "...                                                 ...  \n",
       "7216  Stanisław Krajewski (born 1950) is a Polish ph...  \n",
       "7217  Patrick Stokes (born 1978) is an Australian ph...  \n",
       "7218  Ernst Waldfried Josef Wenzel Mach (; German: [...  \n",
       "7219  Jessica Pierce (born October 21, 1965) is an A...  \n",
       "7220  Hans-Georg Gadamer (; German: [ˈɡaːdamɐ]; Febr...  \n",
       "\n",
       "[7221 rows x 5 columns]"
      ]
     },
     "execution_count": 3,
     "metadata": {},
     "output_type": "execute_result"
    }
   ],
   "source": [
    "articles = pd.read_pickle('../data/to_index_p4.pkl')\n",
    "articles.dropna(axis=0, inplace=True)\n",
    "articles.reset_index(inplace=True)\n",
    "articles"
   ]
  },
  {
   "cell_type": "markdown",
   "metadata": {},
   "source": [
    "# Universal Sentence Encoder"
   ]
  },
  {
   "cell_type": "code",
   "execution_count": 17,
   "metadata": {},
   "outputs": [],
   "source": [
    "universal_sentence_encoder = hub.load(\"https://tfhub.dev/google/universal-sentence-encoder/4\")"
   ]
  },
  {
   "cell_type": "markdown",
   "metadata": {},
   "source": [
    "### Embeddings the abstract of every article"
   ]
  },
  {
   "cell_type": "code",
   "execution_count": 26,
   "metadata": {},
   "outputs": [
    {
     "name": "stdout",
     "output_type": "stream",
     "text": [
      "CPU times: user 12.2 s, sys: 5.72 s, total: 17.9 s\n",
      "Wall time: 5.99 s\n"
     ]
    }
   ],
   "source": [
    "%%time\n",
    "dataset = tf.data.Dataset.from_tensor_slices(articles['abstract'].values)\n",
    "dataset = dataset.batch(512)\n",
    "embeddings = []\n",
    "for batch in dataset:\n",
    "    embedding = universal_sentence_encoder(batch)\n",
    "    embeddings.append(embedding.numpy())\n",
    "abstract_embeddings = np.vstack(embeddings)"
   ]
  },
  {
   "cell_type": "code",
   "execution_count": 27,
   "metadata": {},
   "outputs": [
    {
     "data": {
      "text/plain": [
       "(7221, 512)"
      ]
     },
     "execution_count": 27,
     "metadata": {},
     "output_type": "execute_result"
    }
   ],
   "source": [
    "abstract_embeddings.shape"
   ]
  },
  {
   "cell_type": "code",
   "execution_count": 28,
   "metadata": {},
   "outputs": [
    {
     "name": "stdout",
     "output_type": "stream",
     "text": [
      "CPU times: user 3min 37s, sys: 1min 18s, total: 4min 56s\n",
      "Wall time: 2min 16s\n"
     ]
    }
   ],
   "source": [
    "%%time\n",
    "dataset = tf.data.Dataset.from_tensor_slices(articles['text'].values)\n",
    "dataset = dataset.batch(512)\n",
    "embeddings = []\n",
    "for batch in dataset:\n",
    "    embedding = universal_sentence_encoder(batch)\n",
    "    embeddings.append(embedding.numpy())\n",
    "article_embeddings = np.vstack(embeddings)"
   ]
  },
  {
   "cell_type": "code",
   "execution_count": 29,
   "metadata": {},
   "outputs": [
    {
     "data": {
      "text/plain": [
       "(7221, 512)"
      ]
     },
     "execution_count": 29,
     "metadata": {},
     "output_type": "execute_result"
    }
   ],
   "source": [
    "article_embeddings.shape"
   ]
  },
  {
   "cell_type": "code",
   "execution_count": 30,
   "metadata": {},
   "outputs": [],
   "source": [
    "with open('../data/use_abstract_embeddings.npy', 'wb') as f:\n",
    "    np.save(f, abstract_embeddings)\n",
    "with open('../data/use_article_embeddings.npy', 'wb') as f:\n",
    "    np.save(f, article_embeddings)"
   ]
  },
  {
   "cell_type": "markdown",
   "metadata": {},
   "source": [
    "# Spectre \n",
    "Document-level Representation Learning using Citation-informed Transformers\n",
    "\n",
    "https://arxiv.org/pdf/2004.07180.pdf"
   ]
  },
  {
   "cell_type": "code",
   "execution_count": 9,
   "metadata": {},
   "outputs": [
    {
     "name": "stderr",
     "output_type": "stream",
     "text": [
      "Some weights of the PyTorch model were not used when initializing the TF 2.0 model TFBertModel: ['embeddings.position_ids']\n",
      "- This IS expected if you are initializing TFBertModel from a PyTorch model trained on another task or with another architecture (e.g. initializing a TFBertForSequenceClassification model from a BertForPreTraining model).\n",
      "- This IS NOT expected if you are initializing TFBertModel from a PyTorch model that you expect to be exactly identical (e.g. initializing a TFBertForSequenceClassification model from a BertForSequenceClassification model).\n",
      "All the weights of TFBertModel were initialized from the PyTorch model.\n",
      "If your task is similar to the task the model of the checkpoint was trained on, you can already use TFBertModel for predictions without further training.\n"
     ]
    }
   ],
   "source": [
    "tokenizer = AutoTokenizer.from_pretrained('allenai/specter')\n",
    "model = TFAutoModel.from_pretrained('allenai/specter', from_pt=True)"
   ]
  },
  {
   "cell_type": "code",
   "execution_count": 10,
   "metadata": {},
   "outputs": [],
   "source": [
    "title_abstract =  (articles['title'] + ' ' + articles['abstract']).tolist()"
   ]
  },
  {
   "cell_type": "code",
   "execution_count": 11,
   "metadata": {},
   "outputs": [],
   "source": [
    "inputs = tokenizer(title_abstract, padding=True, truncation=True, return_tensors=\"tf\", max_length=512)"
   ]
  },
  {
   "cell_type": "code",
   "execution_count": 14,
   "metadata": {},
   "outputs": [],
   "source": [
    "dataset = tf.data.Dataset.from_tensor_slices(inputs).batch(32)"
   ]
  },
  {
   "cell_type": "code",
   "execution_count": 15,
   "metadata": {},
   "outputs": [
    {
     "name": "stdout",
     "output_type": "stream",
     "text": [
      "CPU times: user 1min 16s, sys: 29.1 s, total: 1min 46s\n",
      "Wall time: 1min 38s\n"
     ]
    }
   ],
   "source": [
    "%%time\n",
    "spectre_embeddings = []\n",
    "for batch in dataset:\n",
    "    result = model(**batch)\n",
    "    embeddings = result.last_hidden_state[:, 0, :].numpy()\n",
    "    spectre_embeddings.append(embeddings)"
   ]
  },
  {
   "cell_type": "code",
   "execution_count": 18,
   "metadata": {},
   "outputs": [],
   "source": [
    "spectre_embeddings = np.vstack(spectre_embeddings)"
   ]
  },
  {
   "cell_type": "code",
   "execution_count": 19,
   "metadata": {},
   "outputs": [
    {
     "data": {
      "text/plain": [
       "(7221, 768)"
      ]
     },
     "execution_count": 19,
     "metadata": {},
     "output_type": "execute_result"
    }
   ],
   "source": [
    "spectre_embeddings.shape"
   ]
  },
  {
   "cell_type": "code",
   "execution_count": 20,
   "metadata": {},
   "outputs": [],
   "source": [
    "with open('../data/spectre_embeddings.npy', 'wb') as f:\n",
    "    np.save(f, spectre_embeddings)"
   ]
  }
 ],
 "metadata": {
  "kernelspec": {
   "display_name": "Python 3",
   "language": "python",
   "name": "python3"
  },
  "language_info": {
   "codemirror_mode": {
    "name": "ipython",
    "version": 3
   },
   "file_extension": ".py",
   "mimetype": "text/x-python",
   "name": "python",
   "nbconvert_exporter": "python",
   "pygments_lexer": "ipython3",
   "version": "3.8.6"
  }
 },
 "nbformat": 4,
 "nbformat_minor": 2
}
