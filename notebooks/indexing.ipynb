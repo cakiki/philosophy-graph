{
 "cells": [
  {
   "cell_type": "code",
   "execution_count": 1,
   "id": "danish-wealth",
   "metadata": {},
   "outputs": [
    {
     "data": {
      "text/html": [
       "<style>.container { width:95% !important; }</style>"
      ],
      "text/plain": [
       "<IPython.core.display.HTML object>"
      ]
     },
     "metadata": {},
     "output_type": "display_data"
    }
   ],
   "source": [
    "from IPython.core.display import HTML\n",
    "display(HTML(\"<style>.container { width:95% !important; }</style>\"))"
   ]
  },
  {
   "cell_type": "code",
   "execution_count": 2,
   "id": "developing-korea",
   "metadata": {},
   "outputs": [],
   "source": [
    "import pandas as pd\n",
    "import numpy as np\n",
    "from elasticsearch import Elasticsearch, helpers\n",
    "from elasticsearch_dsl import Search, Q, SF\n",
    "from bs4 import BeautifulSoup"
   ]
  },
  {
   "cell_type": "code",
   "execution_count": 86,
   "id": "fatal-migration",
   "metadata": {},
   "outputs": [],
   "source": [
    "# es = Elasticsearch(http_compress=True, maxsize=1000) # Use this to index\n",
    "es = Elasticsearch()"
   ]
  },
  {
   "cell_type": "code",
   "execution_count": 87,
   "id": "interested-scene",
   "metadata": {},
   "outputs": [
    {
     "data": {
      "text/plain": [
       "True"
      ]
     },
     "execution_count": 87,
     "metadata": {},
     "output_type": "execute_result"
    }
   ],
   "source": [
    "es.ping()"
   ]
  },
  {
   "cell_type": "code",
   "execution_count": 5,
   "id": "headed-motion",
   "metadata": {},
   "outputs": [],
   "source": [
    "wiki_dataset = pd.read_pickle('../data/dbpedia_with_articles.pkl')\n",
    "plato_dataset = pd.read_pickle('../data/plato.pkl')\n",
    "wiki_index = wiki_dataset[['philosopher_url', 'abstract', 'text']].copy()\n",
    "plato_index = plato_dataset[['title', 'abstract', 'full_article_with_tags']].copy()"
   ]
  },
  {
   "cell_type": "code",
   "execution_count": 6,
   "id": "korean-syndicate",
   "metadata": {},
   "outputs": [
    {
     "data": {
      "text/html": [
       "<div>\n",
       "<style scoped>\n",
       "    .dataframe tbody tr th:only-of-type {\n",
       "        vertical-align: middle;\n",
       "    }\n",
       "\n",
       "    .dataframe tbody tr th {\n",
       "        vertical-align: top;\n",
       "    }\n",
       "\n",
       "    .dataframe thead th {\n",
       "        text-align: right;\n",
       "    }\n",
       "</style>\n",
       "<table border=\"1\" class=\"dataframe\">\n",
       "  <thead>\n",
       "    <tr style=\"text-align: right;\">\n",
       "      <th></th>\n",
       "      <th>id</th>\n",
       "      <th>title</th>\n",
       "      <th>abstract</th>\n",
       "      <th>text</th>\n",
       "    </tr>\n",
       "  </thead>\n",
       "  <tbody>\n",
       "    <tr>\n",
       "      <th>0</th>\n",
       "      <td>W0</td>\n",
       "      <td>Stephen Law</td>\n",
       "      <td>Stephen Law  (born 1960) is an English philoso...</td>\n",
       "      <td>Stephen Law  (born 1960) is an English philoso...</td>\n",
       "    </tr>\n",
       "    <tr>\n",
       "      <th>1</th>\n",
       "      <td>W1</td>\n",
       "      <td>Henry S. Richardson</td>\n",
       "      <td>Henry S. Richardson is an American philosopher...</td>\n",
       "      <td>Henry S. Richardson is an American philosopher...</td>\n",
       "    </tr>\n",
       "    <tr>\n",
       "      <th>2</th>\n",
       "      <td>W2</td>\n",
       "      <td>John Amos Comenius</td>\n",
       "      <td>John Amos Comenius (Czech: Jan Amos Komenský; ...</td>\n",
       "      <td>John Amos Comenius (Czech: Jan Amos Komenský; ...</td>\n",
       "    </tr>\n",
       "    <tr>\n",
       "      <th>3</th>\n",
       "      <td>W3</td>\n",
       "      <td>Javier Gomá</td>\n",
       "      <td>Javier Gomá Lanzón (Bilbao, 24 May 1965) is a ...</td>\n",
       "      <td>Javier Gomá Lanzón (Bilbao, 24 May 1965) is a ...</td>\n",
       "    </tr>\n",
       "    <tr>\n",
       "      <th>4</th>\n",
       "      <td>W4</td>\n",
       "      <td>Oskar Negt</td>\n",
       "      <td>Oskar Negt (German pronunciation: [ˈneːkt]; bo...</td>\n",
       "      <td>Oskar Negt (German pronunciation: [ˈneːkt]; bo...</td>\n",
       "    </tr>\n",
       "  </tbody>\n",
       "</table>\n",
       "</div>"
      ],
      "text/plain": [
       "   id                title                                           abstract  \\\n",
       "0  W0          Stephen Law  Stephen Law  (born 1960) is an English philoso...   \n",
       "1  W1  Henry S. Richardson  Henry S. Richardson is an American philosopher...   \n",
       "2  W2   John Amos Comenius  John Amos Comenius (Czech: Jan Amos Komenský; ...   \n",
       "3  W3          Javier Gomá  Javier Gomá Lanzón (Bilbao, 24 May 1965) is a ...   \n",
       "4  W4           Oskar Negt  Oskar Negt (German pronunciation: [ˈneːkt]; bo...   \n",
       "\n",
       "                                                text  \n",
       "0  Stephen Law  (born 1960) is an English philoso...  \n",
       "1  Henry S. Richardson is an American philosopher...  \n",
       "2  John Amos Comenius (Czech: Jan Amos Komenský; ...  \n",
       "3  Javier Gomá Lanzón (Bilbao, 24 May 1965) is a ...  \n",
       "4  Oskar Negt (German pronunciation: [ˈneːkt]; bo...  "
      ]
     },
     "execution_count": 6,
     "metadata": {},
     "output_type": "execute_result"
    }
   ],
   "source": [
    "wiki_index['title'] = wiki_index['philosopher_url'].apply(lambda x: x.replace('_', ' '))\n",
    "wiki_index['id'] = 'W' + wiki_index.index.astype(str)\n",
    "wiki_index = wiki_index[['id','title', 'abstract', 'text']]\n",
    "wiki_index.head(5)"
   ]
  },
  {
   "cell_type": "code",
   "execution_count": 7,
   "id": "convertible-polymer",
   "metadata": {},
   "outputs": [
    {
     "name": "stdout",
     "output_type": "stream",
     "text": [
      "CPU times: user 21 s, sys: 257 ms, total: 21.3 s\n",
      "Wall time: 21.3 s\n"
     ]
    },
    {
     "data": {
      "text/html": [
       "<div>\n",
       "<style scoped>\n",
       "    .dataframe tbody tr th:only-of-type {\n",
       "        vertical-align: middle;\n",
       "    }\n",
       "\n",
       "    .dataframe tbody tr th {\n",
       "        vertical-align: top;\n",
       "    }\n",
       "\n",
       "    .dataframe thead th {\n",
       "        text-align: right;\n",
       "    }\n",
       "</style>\n",
       "<table border=\"1\" class=\"dataframe\">\n",
       "  <thead>\n",
       "    <tr style=\"text-align: right;\">\n",
       "      <th></th>\n",
       "      <th>id</th>\n",
       "      <th>title</th>\n",
       "      <th>abstract</th>\n",
       "      <th>text</th>\n",
       "    </tr>\n",
       "  </thead>\n",
       "  <tbody>\n",
       "    <tr>\n",
       "      <th>0</th>\n",
       "      <td>P0</td>\n",
       "      <td>Abduction</td>\n",
       "      <td>In the philosophical literature, the term “abd...</td>\n",
       "      <td>\\n1. Abduction: The General Idea\\n\\nYou happen...</td>\n",
       "    </tr>\n",
       "    <tr>\n",
       "      <th>1</th>\n",
       "      <td>P1</td>\n",
       "      <td>Affirmative Action</td>\n",
       "      <td>“Affirmative action” means positive steps take...</td>\n",
       "      <td>\\n1. In the Beginning\\n\\n\\nIn 1972, affirmativ...</td>\n",
       "    </tr>\n",
       "    <tr>\n",
       "      <th>2</th>\n",
       "      <td>P2</td>\n",
       "      <td>Aesthetics of the Everyday</td>\n",
       "      <td>In the history of Western aesthetics, the subj...</td>\n",
       "      <td>\\n1. Recent History\\n\\nWith the establishment ...</td>\n",
       "    </tr>\n",
       "  </tbody>\n",
       "</table>\n",
       "</div>"
      ],
      "text/plain": [
       "   id                       title  \\\n",
       "0  P0                   Abduction   \n",
       "1  P1          Affirmative Action   \n",
       "2  P2  Aesthetics of the Everyday   \n",
       "\n",
       "                                            abstract  \\\n",
       "0  In the philosophical literature, the term “abd...   \n",
       "1  “Affirmative action” means positive steps take...   \n",
       "2  In the history of Western aesthetics, the subj...   \n",
       "\n",
       "                                                text  \n",
       "0  \\n1. Abduction: The General Idea\\n\\nYou happen...  \n",
       "1  \\n1. In the Beginning\\n\\n\\nIn 1972, affirmativ...  \n",
       "2  \\n1. Recent History\\n\\nWith the establishment ...  "
      ]
     },
     "execution_count": 7,
     "metadata": {},
     "output_type": "execute_result"
    }
   ],
   "source": [
    "%%time\n",
    "plato_index['text'] = plato_index['full_article_with_tags'].apply(lambda x: BeautifulSoup(x).text)\n",
    "plato_index['id'] = 'P' + plato_index.index.astype(str)\n",
    "plato_index = plato_index[['id','title', 'abstract', 'text']]\n",
    "plato_index.head(3)"
   ]
  },
  {
   "cell_type": "code",
   "execution_count": 54,
   "id": "german-twins",
   "metadata": {},
   "outputs": [
    {
     "data": {
      "text/html": [
       "<div>\n",
       "<style scoped>\n",
       "    .dataframe tbody tr th:only-of-type {\n",
       "        vertical-align: middle;\n",
       "    }\n",
       "\n",
       "    .dataframe tbody tr th {\n",
       "        vertical-align: top;\n",
       "    }\n",
       "\n",
       "    .dataframe thead th {\n",
       "        text-align: right;\n",
       "    }\n",
       "</style>\n",
       "<table border=\"1\" class=\"dataframe\">\n",
       "  <thead>\n",
       "    <tr style=\"text-align: right;\">\n",
       "      <th></th>\n",
       "      <th>id</th>\n",
       "      <th>title</th>\n",
       "      <th>abstract</th>\n",
       "      <th>text</th>\n",
       "    </tr>\n",
       "  </thead>\n",
       "  <tbody>\n",
       "    <tr>\n",
       "      <th>0</th>\n",
       "      <td>P0</td>\n",
       "      <td>Abduction</td>\n",
       "      <td>In the philosophical literature, the term “abd...</td>\n",
       "      <td>\\n1. Abduction: The General Idea\\n\\nYou happen...</td>\n",
       "    </tr>\n",
       "    <tr>\n",
       "      <th>1</th>\n",
       "      <td>P1</td>\n",
       "      <td>Affirmative Action</td>\n",
       "      <td>“Affirmative action” means positive steps take...</td>\n",
       "      <td>\\n1. In the Beginning\\n\\n\\nIn 1972, affirmativ...</td>\n",
       "    </tr>\n",
       "    <tr>\n",
       "      <th>2</th>\n",
       "      <td>P2</td>\n",
       "      <td>Aesthetics of the Everyday</td>\n",
       "      <td>In the history of Western aesthetics, the subj...</td>\n",
       "      <td>\\n1. Recent History\\n\\nWith the establishment ...</td>\n",
       "    </tr>\n",
       "    <tr>\n",
       "      <th>3</th>\n",
       "      <td>P3</td>\n",
       "      <td>Wittgenstein’s Aesthetics</td>\n",
       "      <td>Given the extreme importance that Wittgenstein...</td>\n",
       "      <td>\\n1. The Critique of Traditional Aesthetics\\n\\...</td>\n",
       "    </tr>\n",
       "    <tr>\n",
       "      <th>4</th>\n",
       "      <td>P4</td>\n",
       "      <td>Schopenhauer’s Aesthetics</td>\n",
       "      <td>The focus of this entry is on Schopenhauer’s a...</td>\n",
       "      <td>\\n1. Brief Background\\n\\n\\nBy the 1870s, Arthu...</td>\n",
       "    </tr>\n",
       "    <tr>\n",
       "      <th>...</th>\n",
       "      <td>...</td>\n",
       "      <td>...</td>\n",
       "      <td>...</td>\n",
       "      <td>...</td>\n",
       "    </tr>\n",
       "    <tr>\n",
       "      <th>6084</th>\n",
       "      <td>W6084</td>\n",
       "      <td>Stanisław Krajewski</td>\n",
       "      <td>Stanisław Krajewski (born 1950) is a Polish ph...</td>\n",
       "      <td>Stanisław Krajewski (born 1950) is a Polish ph...</td>\n",
       "    </tr>\n",
       "    <tr>\n",
       "      <th>6085</th>\n",
       "      <td>W6085</td>\n",
       "      <td>Patrick Stokes (philosopher)</td>\n",
       "      <td>Patrick Stokes (born 1978) is an Australian ph...</td>\n",
       "      <td>Patrick Stokes (born 1978) is an Australian ph...</td>\n",
       "    </tr>\n",
       "    <tr>\n",
       "      <th>6086</th>\n",
       "      <td>W6086</td>\n",
       "      <td>Ernst Mach</td>\n",
       "      <td>Ernst Waldfried Josef Wenzel Mach (; German: [...</td>\n",
       "      <td>Ernst Waldfried Josef Wenzel Mach (; German: [...</td>\n",
       "    </tr>\n",
       "    <tr>\n",
       "      <th>6087</th>\n",
       "      <td>W6087</td>\n",
       "      <td>Jessica Pierce</td>\n",
       "      <td>Jessica Pierce (born October 21, 1965) is an A...</td>\n",
       "      <td>Jessica Pierce (born October 21, 1965) is an A...</td>\n",
       "    </tr>\n",
       "    <tr>\n",
       "      <th>6088</th>\n",
       "      <td>W6088</td>\n",
       "      <td>Hans-Georg Gadamer</td>\n",
       "      <td>Hans-Georg Gadamer (; German: [ˈɡaːdamɐ]; Febr...</td>\n",
       "      <td>Hans-Georg Gadamer (; German: [ˈɡaːdamɐ]; Febr...</td>\n",
       "    </tr>\n",
       "  </tbody>\n",
       "</table>\n",
       "<p>7793 rows × 4 columns</p>\n",
       "</div>"
      ],
      "text/plain": [
       "         id                         title  \\\n",
       "0        P0                     Abduction   \n",
       "1        P1            Affirmative Action   \n",
       "2        P2    Aesthetics of the Everyday   \n",
       "3        P3     Wittgenstein’s Aesthetics   \n",
       "4        P4     Schopenhauer’s Aesthetics   \n",
       "...     ...                           ...   \n",
       "6084  W6084           Stanisław Krajewski   \n",
       "6085  W6085  Patrick Stokes (philosopher)   \n",
       "6086  W6086                    Ernst Mach   \n",
       "6087  W6087                Jessica Pierce   \n",
       "6088  W6088            Hans-Georg Gadamer   \n",
       "\n",
       "                                               abstract  \\\n",
       "0     In the philosophical literature, the term “abd...   \n",
       "1     “Affirmative action” means positive steps take...   \n",
       "2     In the history of Western aesthetics, the subj...   \n",
       "3     Given the extreme importance that Wittgenstein...   \n",
       "4     The focus of this entry is on Schopenhauer’s a...   \n",
       "...                                                 ...   \n",
       "6084  Stanisław Krajewski (born 1950) is a Polish ph...   \n",
       "6085  Patrick Stokes (born 1978) is an Australian ph...   \n",
       "6086  Ernst Waldfried Josef Wenzel Mach (; German: [...   \n",
       "6087  Jessica Pierce (born October 21, 1965) is an A...   \n",
       "6088  Hans-Georg Gadamer (; German: [ˈɡaːdamɐ]; Febr...   \n",
       "\n",
       "                                                   text  \n",
       "0     \\n1. Abduction: The General Idea\\n\\nYou happen...  \n",
       "1     \\n1. In the Beginning\\n\\n\\nIn 1972, affirmativ...  \n",
       "2     \\n1. Recent History\\n\\nWith the establishment ...  \n",
       "3     \\n1. The Critique of Traditional Aesthetics\\n\\...  \n",
       "4     \\n1. Brief Background\\n\\n\\nBy the 1870s, Arthu...  \n",
       "...                                                 ...  \n",
       "6084  Stanisław Krajewski (born 1950) is a Polish ph...  \n",
       "6085  Patrick Stokes (born 1978) is an Australian ph...  \n",
       "6086  Ernst Waldfried Josef Wenzel Mach (; German: [...  \n",
       "6087  Jessica Pierce (born October 21, 1965) is an A...  \n",
       "6088  Hans-Georg Gadamer (; German: [ˈɡaːdamɐ]; Febr...  \n",
       "\n",
       "[7793 rows x 4 columns]"
      ]
     },
     "execution_count": 54,
     "metadata": {},
     "output_type": "execute_result"
    }
   ],
   "source": [
    "to_index = pd.concat([plato_index, wiki_index])\n",
    "to_index"
   ]
  },
  {
   "cell_type": "code",
   "execution_count": 55,
   "id": "intense-liver",
   "metadata": {},
   "outputs": [],
   "source": [
    "to_index['text'] = to_index['text'].apply(lambda x: np.nan if x==-1 else x)"
   ]
  },
  {
   "cell_type": "code",
   "execution_count": 61,
   "id": "missing-violin",
   "metadata": {},
   "outputs": [],
   "source": [
    "to_index.to_csv('../data/to_index.csv')"
   ]
  },
  {
   "cell_type": "code",
   "execution_count": 62,
   "id": "loved-shark",
   "metadata": {},
   "outputs": [],
   "source": [
    "to_index.to_pickle('../data/to_index.pkl')"
   ]
  },
  {
   "cell_type": "code",
   "execution_count": 63,
   "id": "marked-vienna",
   "metadata": {},
   "outputs": [],
   "source": [
    "to_index.to_pickle('../data/to_index_p4.pkl', protocol=4)"
   ]
  },
  {
   "cell_type": "code",
   "execution_count": 67,
   "id": "dress-beauty",
   "metadata": {},
   "outputs": [],
   "source": [
    "body = {\n",
    "    'mappings': {  \n",
    "        'properties' : {          \n",
    "            'title': {'type': 'text'},\n",
    "            'abstract': {'type': 'text'},\n",
    "            'article': {'type': 'text'},\n",
    "        }\n",
    "    }\n",
    "}"
   ]
  },
  {
   "cell_type": "code",
   "execution_count": 68,
   "id": "demonstrated-season",
   "metadata": {},
   "outputs": [
    {
     "data": {
      "text/plain": [
       "{'acknowledged': True, 'shards_acknowledged': True, 'index': 'philosophy'}"
      ]
     },
     "execution_count": 68,
     "metadata": {},
     "output_type": "execute_result"
    }
   ],
   "source": [
    "es.indices.create(index='philosophy', body=body)"
   ]
  },
  {
   "cell_type": "code",
   "execution_count": 69,
   "id": "vital-manchester",
   "metadata": {},
   "outputs": [],
   "source": [
    "def document_generator_from_dataframe(df, index):\n",
    "    for _, row in df.iterrows():\n",
    "        row_as_dict = row.replace('', 'empty').to_dict()\n",
    "        yield {\n",
    "            \"_index\": index,\n",
    "            \"_id\": row['id'],\n",
    "            \"_source\": {k: row_as_dict[k] for k in ['title', 'abstract', 'text']}\n",
    "        }"
   ]
  },
  {
   "cell_type": "code",
   "execution_count": 70,
   "id": "excellent-myrtle",
   "metadata": {},
   "outputs": [],
   "source": [
    "gen = document_generator_from_dataframe(to_index[~to_index[['text', 'abstract']].isna().all(1)].replace(np.nan, 'empty'), 'philosophy')"
   ]
  },
  {
   "cell_type": "code",
   "execution_count": 71,
   "id": "funky-broadcast",
   "metadata": {},
   "outputs": [
    {
     "name": "stdout",
     "output_type": "stream",
     "text": [
      "CPU times: user 18.2 s, sys: 1.07 s, total: 19.3 s\n",
      "Wall time: 18.9 s\n"
     ]
    }
   ],
   "source": [
    "%%time\n",
    "for success, info in helpers.parallel_bulk(es, gen, thread_count=2000,chunk_size=2500, queue_size=1000):\n",
    "    if not success:\n",
    "        print('A document failed:', info)"
   ]
  },
  {
   "cell_type": "code",
   "execution_count": 80,
   "id": "purple-router",
   "metadata": {},
   "outputs": [],
   "source": [
    "lookup = {\"P\": \"the Stanford Plato Encyclopedia\", \"W\":\"the Wikipedia Philosophers Collection\"}"
   ]
  },
  {
   "cell_type": "code",
   "execution_count": 84,
   "id": "sought-jaguar",
   "metadata": {
    "scrolled": false
   },
   "outputs": [
    {
     "name": "stdout",
     "output_type": "stream",
     "text": [
      "Logic and Games - ID: P973 from the Stanford Plato Encyclopedia SCORE: 10.573457\n",
      "*************************************************************************************************************************\n",
      "Logics for Analyzing Games - ID: P974 from the Stanford Plato Encyclopedia SCORE: 9.614387\n",
      "*************************************************************************************************************************\n",
      "Logics for Analyzing Power in Normal Form Games - ID: P674 from the Stanford Plato Encyclopedia SCORE: 9.523955\n",
      "*************************************************************************************************************************\n",
      "Jason Silva - ID: W1401 from the Wikipedia Philosophers Collection SCORE: 8.676296\n",
      "*************************************************************************************************************************\n",
      "Byram D. Avari - ID: W3379 from the Wikipedia Philosophers Collection SCORE: 8.661753\n",
      "*************************************************************************************************************************\n",
      "Horus (athlete) - ID: W1757 from the Wikipedia Philosophers Collection SCORE: 8.300993\n",
      "*************************************************************************************************************************\n",
      "Games, Full Abstraction and Full Completeness - ID: P975 from the Stanford Plato Encyclopedia SCORE: 8.163866\n",
      "*************************************************************************************************************************\n",
      "Evolutionary Game Theory - ID: P1077 from the Stanford Plato Encyclopedia SCORE: 7.7155094\n",
      "*************************************************************************************************************************\n",
      "Peter Ludlow - ID: W5740 from the Wikipedia Philosophers Collection SCORE: 7.7051945\n",
      "*************************************************************************************************************************\n",
      "Epistemic Foundations of Game Theory - ID: P972 from the Stanford Plato Encyclopedia SCORE: 7.5702834\n",
      "*************************************************************************************************************************\n",
      "Alexander R. Galloway - ID: W666 from the Wikipedia Philosophers Collection SCORE: 7.309137\n",
      "*************************************************************************************************************************\n",
      "Religious Language - ID: P257 from the Stanford Plato Encyclopedia SCORE: 7.0318823\n",
      "*************************************************************************************************************************\n",
      "Private Language - ID: P348 from the Stanford Plato Encyclopedia SCORE: 7.0318823\n",
      "*************************************************************************************************************************\n",
      "Distributive Justice and Empirical Moral Psychology - ID: P1196 from the Stanford Plato Encyclopedia SCORE: 6.7350154\n",
      "*************************************************************************************************************************\n",
      "Stefano Gualeni - ID: W5494 from the Wikipedia Philosophers Collection SCORE: 6.604768\n",
      "*************************************************************************************************************************\n",
      "Peregrinus Proteus - ID: W153 from the Wikipedia Philosophers Collection SCORE: 6.427786\n",
      "*************************************************************************************************************************\n",
      "Dialogical Logic - ID: P676 from the Stanford Plato Encyclopedia SCORE: 6.427786\n",
      "*************************************************************************************************************************\n",
      "Dependence Logic - ID: P678 from the Stanford Plato Encyclopedia SCORE: 6.402942\n",
      "*************************************************************************************************************************\n",
      "James P. Carse - ID: W5250 from the Wikipedia Philosophers Collection SCORE: 6.2600417\n",
      "*************************************************************************************************************************\n",
      "Kelly Oliver - ID: W4060 from the Wikipedia Philosophers Collection SCORE: 6.2600417\n",
      "*************************************************************************************************************************\n",
      "CPU times: user 41 ms, sys: 197 µs, total: 41.2 ms\n",
      "Wall time: 114 ms\n"
     ]
    }
   ],
   "source": [
    "%%time\n",
    "query = \"language games\"\n",
    "\n",
    "s = Search(using=es, index=\"philosophy\")\n",
    "\n",
    "# s.query = Q(\"match\", title=query)\n",
    "s.query = Q(\"multi_match\", query=query, fields=['title', 'abstract', 'article'])\n",
    "s = s[:20]\n",
    "\n",
    "response = s.execute()\n",
    "for hit in response:\n",
    "    print(f\"{hit.title} - ID: {hit.meta.id} from {lookup[hit.meta.id[0]]} SCORE: {hit.meta.score}\")\n",
    "    print(\"*************************************************************************************************************************\")"
   ]
  }
 ],
 "metadata": {
  "kernelspec": {
   "display_name": "Python 3",
   "language": "python",
   "name": "python3"
  },
  "language_info": {
   "codemirror_mode": {
    "name": "ipython",
    "version": 3
   },
   "file_extension": ".py",
   "mimetype": "text/x-python",
   "name": "python",
   "nbconvert_exporter": "python",
   "pygments_lexer": "ipython3",
   "version": "3.8.6"
  }
 },
 "nbformat": 4,
 "nbformat_minor": 5
}
