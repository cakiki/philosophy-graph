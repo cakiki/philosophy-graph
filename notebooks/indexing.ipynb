{
 "cells": [
  {
   "cell_type": "code",
   "execution_count": 6,
   "id": "northern-praise",
   "metadata": {},
   "outputs": [
    {
     "data": {
      "text/html": [
       "<style>.container { width:95% !important; }</style>"
      ],
      "text/plain": [
       "<IPython.core.display.HTML object>"
      ]
     },
     "metadata": {},
     "output_type": "display_data"
    }
   ],
   "source": [
    "from IPython.core.display import HTML\n",
    "display(HTML(\"<style>.container { width:95% !important; }</style>\"))"
   ]
  },
  {
   "cell_type": "code",
   "execution_count": 75,
   "id": "written-intelligence",
   "metadata": {},
   "outputs": [],
   "source": [
    "import pandas as pd\n",
    "import numpy as np\n",
    "from elasticsearch import Elasticsearch, helpers\n",
    "from elasticsearch_dsl import Search, Q, SF\n",
    "from bs4 import BeautifulSoup"
   ]
  },
  {
   "cell_type": "code",
   "execution_count": 103,
   "id": "searching-brass",
   "metadata": {},
   "outputs": [],
   "source": [
    "es = Elasticsearch(http_compress=True, maxsize=1000)"
   ]
  },
  {
   "cell_type": "code",
   "execution_count": 104,
   "id": "toxic-correlation",
   "metadata": {},
   "outputs": [
    {
     "data": {
      "text/plain": [
       "True"
      ]
     },
     "execution_count": 104,
     "metadata": {},
     "output_type": "execute_result"
    }
   ],
   "source": [
    "es.ping()"
   ]
  },
  {
   "cell_type": "code",
   "execution_count": 95,
   "id": "voluntary-fiber",
   "metadata": {},
   "outputs": [],
   "source": [
    "wiki_dataset = pd.read_pickle('../data/dbpedia_with_articles.pkl')\n",
    "plato_dataset = pd.read_pickle('../data/plato.pkl')\n",
    "wiki_index = wiki_dataset[['philosopher_url', 'abstract', 'text']].copy()\n",
    "plato_index = plato_dataset[['title', 'abstract', 'full_article_with_tags']].copy()"
   ]
  },
  {
   "cell_type": "code",
   "execution_count": 96,
   "id": "deadly-thong",
   "metadata": {},
   "outputs": [
    {
     "data": {
      "text/html": [
       "<div>\n",
       "<style scoped>\n",
       "    .dataframe tbody tr th:only-of-type {\n",
       "        vertical-align: middle;\n",
       "    }\n",
       "\n",
       "    .dataframe tbody tr th {\n",
       "        vertical-align: top;\n",
       "    }\n",
       "\n",
       "    .dataframe thead th {\n",
       "        text-align: right;\n",
       "    }\n",
       "</style>\n",
       "<table border=\"1\" class=\"dataframe\">\n",
       "  <thead>\n",
       "    <tr style=\"text-align: right;\">\n",
       "      <th></th>\n",
       "      <th>id</th>\n",
       "      <th>title</th>\n",
       "      <th>abstract</th>\n",
       "      <th>text</th>\n",
       "    </tr>\n",
       "  </thead>\n",
       "  <tbody>\n",
       "    <tr>\n",
       "      <th>0</th>\n",
       "      <td>W0</td>\n",
       "      <td>Stephen Law</td>\n",
       "      <td>Stephen Law  (born 1960) is an English philoso...</td>\n",
       "      <td>Stephen Law  (born 1960) is an English philoso...</td>\n",
       "    </tr>\n",
       "    <tr>\n",
       "      <th>1</th>\n",
       "      <td>W1</td>\n",
       "      <td>Henry S. Richardson</td>\n",
       "      <td>Henry S. Richardson is an American philosopher...</td>\n",
       "      <td>Henry S. Richardson is an American philosopher...</td>\n",
       "    </tr>\n",
       "    <tr>\n",
       "      <th>2</th>\n",
       "      <td>W2</td>\n",
       "      <td>John Amos Comenius</td>\n",
       "      <td>John Amos Comenius (Czech: Jan Amos Komenský; ...</td>\n",
       "      <td>John Amos Comenius (Czech: Jan Amos Komenský; ...</td>\n",
       "    </tr>\n",
       "    <tr>\n",
       "      <th>3</th>\n",
       "      <td>W3</td>\n",
       "      <td>Javier Gomá</td>\n",
       "      <td>Javier Gomá Lanzón (Bilbao, 24 May 1965) is a ...</td>\n",
       "      <td>Javier Gomá Lanzón (Bilbao, 24 May 1965) is a ...</td>\n",
       "    </tr>\n",
       "    <tr>\n",
       "      <th>4</th>\n",
       "      <td>W4</td>\n",
       "      <td>Oskar Negt</td>\n",
       "      <td>Oskar Negt (German pronunciation: [ˈneːkt]; bo...</td>\n",
       "      <td>Oskar Negt (German pronunciation: [ˈneːkt]; bo...</td>\n",
       "    </tr>\n",
       "  </tbody>\n",
       "</table>\n",
       "</div>"
      ],
      "text/plain": [
       "   id                title                                           abstract  \\\n",
       "0  W0          Stephen Law  Stephen Law  (born 1960) is an English philoso...   \n",
       "1  W1  Henry S. Richardson  Henry S. Richardson is an American philosopher...   \n",
       "2  W2   John Amos Comenius  John Amos Comenius (Czech: Jan Amos Komenský; ...   \n",
       "3  W3          Javier Gomá  Javier Gomá Lanzón (Bilbao, 24 May 1965) is a ...   \n",
       "4  W4           Oskar Negt  Oskar Negt (German pronunciation: [ˈneːkt]; bo...   \n",
       "\n",
       "                                                text  \n",
       "0  Stephen Law  (born 1960) is an English philoso...  \n",
       "1  Henry S. Richardson is an American philosopher...  \n",
       "2  John Amos Comenius (Czech: Jan Amos Komenský; ...  \n",
       "3  Javier Gomá Lanzón (Bilbao, 24 May 1965) is a ...  \n",
       "4  Oskar Negt (German pronunciation: [ˈneːkt]; bo...  "
      ]
     },
     "execution_count": 96,
     "metadata": {},
     "output_type": "execute_result"
    }
   ],
   "source": [
    "wiki_index['title'] = wiki_index['philosopher_url'].apply(lambda x: x.replace('_', ' '))\n",
    "wiki_index['id'] = 'W' + wiki_index.index.astype(str)\n",
    "wiki_index = wiki_index[['id','title', 'abstract', 'text']]\n",
    "wiki_index.head(5)"
   ]
  },
  {
   "cell_type": "code",
   "execution_count": 97,
   "id": "crazy-buffer",
   "metadata": {},
   "outputs": [
    {
     "name": "stdout",
     "output_type": "stream",
     "text": [
      "CPU times: user 23.6 s, sys: 88.9 ms, total: 23.7 s\n",
      "Wall time: 23.7 s\n"
     ]
    },
    {
     "data": {
      "text/html": [
       "<div>\n",
       "<style scoped>\n",
       "    .dataframe tbody tr th:only-of-type {\n",
       "        vertical-align: middle;\n",
       "    }\n",
       "\n",
       "    .dataframe tbody tr th {\n",
       "        vertical-align: top;\n",
       "    }\n",
       "\n",
       "    .dataframe thead th {\n",
       "        text-align: right;\n",
       "    }\n",
       "</style>\n",
       "<table border=\"1\" class=\"dataframe\">\n",
       "  <thead>\n",
       "    <tr style=\"text-align: right;\">\n",
       "      <th></th>\n",
       "      <th>id</th>\n",
       "      <th>title</th>\n",
       "      <th>abstract</th>\n",
       "      <th>text</th>\n",
       "    </tr>\n",
       "  </thead>\n",
       "  <tbody>\n",
       "    <tr>\n",
       "      <th>0</th>\n",
       "      <td>P0</td>\n",
       "      <td>Abduction</td>\n",
       "      <td>In the philosophical literature, the term “abd...</td>\n",
       "      <td>\\n1. Abduction: The General Idea\\n\\nYou happen...</td>\n",
       "    </tr>\n",
       "    <tr>\n",
       "      <th>1</th>\n",
       "      <td>P1</td>\n",
       "      <td>Affirmative Action</td>\n",
       "      <td>“Affirmative action” means positive steps take...</td>\n",
       "      <td>\\n1. In the Beginning\\n\\n\\nIn 1972, affirmativ...</td>\n",
       "    </tr>\n",
       "    <tr>\n",
       "      <th>2</th>\n",
       "      <td>P2</td>\n",
       "      <td>Aesthetics of the Everyday</td>\n",
       "      <td>In the history of Western aesthetics, the subj...</td>\n",
       "      <td>\\n1. Recent History\\n\\nWith the establishment ...</td>\n",
       "    </tr>\n",
       "  </tbody>\n",
       "</table>\n",
       "</div>"
      ],
      "text/plain": [
       "   id                       title  \\\n",
       "0  P0                   Abduction   \n",
       "1  P1          Affirmative Action   \n",
       "2  P2  Aesthetics of the Everyday   \n",
       "\n",
       "                                            abstract  \\\n",
       "0  In the philosophical literature, the term “abd...   \n",
       "1  “Affirmative action” means positive steps take...   \n",
       "2  In the history of Western aesthetics, the subj...   \n",
       "\n",
       "                                                text  \n",
       "0  \\n1. Abduction: The General Idea\\n\\nYou happen...  \n",
       "1  \\n1. In the Beginning\\n\\n\\nIn 1972, affirmativ...  \n",
       "2  \\n1. Recent History\\n\\nWith the establishment ...  "
      ]
     },
     "execution_count": 97,
     "metadata": {},
     "output_type": "execute_result"
    }
   ],
   "source": [
    "%%time\n",
    "plato_index['text'] = plato_index['full_article_with_tags'].apply(lambda x: BeautifulSoup(x).text)\n",
    "plato_index['id'] = 'P' + plato_index.index.astype(str)\n",
    "plato_index = plato_index[['id','title', 'abstract', 'text']]\n",
    "plato_index.head(3)"
   ]
  },
  {
   "cell_type": "code",
   "execution_count": 100,
   "id": "blessed-weekly",
   "metadata": {},
   "outputs": [
    {
     "data": {
      "text/html": [
       "<div>\n",
       "<style scoped>\n",
       "    .dataframe tbody tr th:only-of-type {\n",
       "        vertical-align: middle;\n",
       "    }\n",
       "\n",
       "    .dataframe tbody tr th {\n",
       "        vertical-align: top;\n",
       "    }\n",
       "\n",
       "    .dataframe thead th {\n",
       "        text-align: right;\n",
       "    }\n",
       "</style>\n",
       "<table border=\"1\" class=\"dataframe\">\n",
       "  <thead>\n",
       "    <tr style=\"text-align: right;\">\n",
       "      <th></th>\n",
       "      <th>id</th>\n",
       "      <th>title</th>\n",
       "      <th>abstract</th>\n",
       "      <th>text</th>\n",
       "    </tr>\n",
       "  </thead>\n",
       "  <tbody>\n",
       "    <tr>\n",
       "      <th>0</th>\n",
       "      <td>P0</td>\n",
       "      <td>Abduction</td>\n",
       "      <td>In the philosophical literature, the term “abd...</td>\n",
       "      <td>\\n1. Abduction: The General Idea\\n\\nYou happen...</td>\n",
       "    </tr>\n",
       "    <tr>\n",
       "      <th>1</th>\n",
       "      <td>P1</td>\n",
       "      <td>Affirmative Action</td>\n",
       "      <td>“Affirmative action” means positive steps take...</td>\n",
       "      <td>\\n1. In the Beginning\\n\\n\\nIn 1972, affirmativ...</td>\n",
       "    </tr>\n",
       "    <tr>\n",
       "      <th>2</th>\n",
       "      <td>P2</td>\n",
       "      <td>Aesthetics of the Everyday</td>\n",
       "      <td>In the history of Western aesthetics, the subj...</td>\n",
       "      <td>\\n1. Recent History\\n\\nWith the establishment ...</td>\n",
       "    </tr>\n",
       "    <tr>\n",
       "      <th>3</th>\n",
       "      <td>P3</td>\n",
       "      <td>Wittgenstein’s Aesthetics</td>\n",
       "      <td>Given the extreme importance that Wittgenstein...</td>\n",
       "      <td>\\n1. The Critique of Traditional Aesthetics\\n\\...</td>\n",
       "    </tr>\n",
       "    <tr>\n",
       "      <th>4</th>\n",
       "      <td>P4</td>\n",
       "      <td>Schopenhauer’s Aesthetics</td>\n",
       "      <td>The focus of this entry is on Schopenhauer’s a...</td>\n",
       "      <td>\\n1. Brief Background\\n\\n\\nBy the 1870s, Arthu...</td>\n",
       "    </tr>\n",
       "    <tr>\n",
       "      <th>...</th>\n",
       "      <td>...</td>\n",
       "      <td>...</td>\n",
       "      <td>...</td>\n",
       "      <td>...</td>\n",
       "    </tr>\n",
       "    <tr>\n",
       "      <th>6084</th>\n",
       "      <td>W6084</td>\n",
       "      <td>Stanisław Krajewski</td>\n",
       "      <td>Stanisław Krajewski (born 1950) is a Polish ph...</td>\n",
       "      <td>Stanisław Krajewski (born 1950) is a Polish ph...</td>\n",
       "    </tr>\n",
       "    <tr>\n",
       "      <th>6085</th>\n",
       "      <td>W6085</td>\n",
       "      <td>Patrick Stokes (philosopher)</td>\n",
       "      <td>Patrick Stokes (born 1978) is an Australian ph...</td>\n",
       "      <td>Patrick Stokes (born 1978) is an Australian ph...</td>\n",
       "    </tr>\n",
       "    <tr>\n",
       "      <th>6086</th>\n",
       "      <td>W6086</td>\n",
       "      <td>Ernst Mach</td>\n",
       "      <td>Ernst Waldfried Josef Wenzel Mach (; German: [...</td>\n",
       "      <td>Ernst Waldfried Josef Wenzel Mach (; German: [...</td>\n",
       "    </tr>\n",
       "    <tr>\n",
       "      <th>6087</th>\n",
       "      <td>W6087</td>\n",
       "      <td>Jessica Pierce</td>\n",
       "      <td>Jessica Pierce (born October 21, 1965) is an A...</td>\n",
       "      <td>Jessica Pierce (born October 21, 1965) is an A...</td>\n",
       "    </tr>\n",
       "    <tr>\n",
       "      <th>6088</th>\n",
       "      <td>W6088</td>\n",
       "      <td>Hans-Georg Gadamer</td>\n",
       "      <td>Hans-Georg Gadamer (; German: [ˈɡaːdamɐ]; Febr...</td>\n",
       "      <td>Hans-Georg Gadamer (; German: [ˈɡaːdamɐ]; Febr...</td>\n",
       "    </tr>\n",
       "  </tbody>\n",
       "</table>\n",
       "<p>7793 rows × 4 columns</p>\n",
       "</div>"
      ],
      "text/plain": [
       "         id                         title  \\\n",
       "0        P0                     Abduction   \n",
       "1        P1            Affirmative Action   \n",
       "2        P2    Aesthetics of the Everyday   \n",
       "3        P3     Wittgenstein’s Aesthetics   \n",
       "4        P4     Schopenhauer’s Aesthetics   \n",
       "...     ...                           ...   \n",
       "6084  W6084           Stanisław Krajewski   \n",
       "6085  W6085  Patrick Stokes (philosopher)   \n",
       "6086  W6086                    Ernst Mach   \n",
       "6087  W6087                Jessica Pierce   \n",
       "6088  W6088            Hans-Georg Gadamer   \n",
       "\n",
       "                                               abstract  \\\n",
       "0     In the philosophical literature, the term “abd...   \n",
       "1     “Affirmative action” means positive steps take...   \n",
       "2     In the history of Western aesthetics, the subj...   \n",
       "3     Given the extreme importance that Wittgenstein...   \n",
       "4     The focus of this entry is on Schopenhauer’s a...   \n",
       "...                                                 ...   \n",
       "6084  Stanisław Krajewski (born 1950) is a Polish ph...   \n",
       "6085  Patrick Stokes (born 1978) is an Australian ph...   \n",
       "6086  Ernst Waldfried Josef Wenzel Mach (; German: [...   \n",
       "6087  Jessica Pierce (born October 21, 1965) is an A...   \n",
       "6088  Hans-Georg Gadamer (; German: [ˈɡaːdamɐ]; Febr...   \n",
       "\n",
       "                                                   text  \n",
       "0     \\n1. Abduction: The General Idea\\n\\nYou happen...  \n",
       "1     \\n1. In the Beginning\\n\\n\\nIn 1972, affirmativ...  \n",
       "2     \\n1. Recent History\\n\\nWith the establishment ...  \n",
       "3     \\n1. The Critique of Traditional Aesthetics\\n\\...  \n",
       "4     \\n1. Brief Background\\n\\n\\nBy the 1870s, Arthu...  \n",
       "...                                                 ...  \n",
       "6084  Stanisław Krajewski (born 1950) is a Polish ph...  \n",
       "6085  Patrick Stokes (born 1978) is an Australian ph...  \n",
       "6086  Ernst Waldfried Josef Wenzel Mach (; German: [...  \n",
       "6087  Jessica Pierce (born October 21, 1965) is an A...  \n",
       "6088  Hans-Georg Gadamer (; German: [ˈɡaːdamɐ]; Febr...  \n",
       "\n",
       "[7793 rows x 4 columns]"
      ]
     },
     "execution_count": 100,
     "metadata": {},
     "output_type": "execute_result"
    }
   ],
   "source": [
    "to_index = pd.concat([plato_index, wiki_index])\n",
    "to_index"
   ]
  },
  {
   "cell_type": "code",
   "execution_count": 98,
   "id": "utility-johns",
   "metadata": {},
   "outputs": [],
   "source": [
    "body = {\n",
    "    'mappings': {  \n",
    "        'properties' : {          \n",
    "            'title': {'type': 'keyword'},\n",
    "            'abstract': {'type': 'text'},\n",
    "            'article': {'type': 'text'},\n",
    "        }\n",
    "    }\n",
    "}"
   ]
  },
  {
   "cell_type": "code",
   "execution_count": 117,
   "id": "painted-scanner",
   "metadata": {},
   "outputs": [
    {
     "data": {
      "text/plain": [
       "{'acknowledged': True, 'shards_acknowledged': True, 'index': 'philosophy'}"
      ]
     },
     "execution_count": 117,
     "metadata": {},
     "output_type": "execute_result"
    }
   ],
   "source": [
    "es.indices.create(index='philosophy', body=body)"
   ]
  },
  {
   "cell_type": "code",
   "execution_count": 118,
   "id": "alpine-bermuda",
   "metadata": {},
   "outputs": [],
   "source": [
    "def document_generator_from_dataframe(df, index):\n",
    "    for _, row in df.iterrows():\n",
    "        row_as_dict = row.replace('', 'empty').to_dict()\n",
    "        yield {\n",
    "            \"_index\": index,\n",
    "            \"_id\": row['id'],\n",
    "            \"_source\": {k: row_as_dict[k] for k in ['title', 'abstract', 'text']}\n",
    "        }"
   ]
  },
  {
   "cell_type": "code",
   "execution_count": 119,
   "id": "classified-decline",
   "metadata": {},
   "outputs": [],
   "source": [
    "gen = document_generator_from_dataframe(to_index.replace(np.nan, 'empty'), 'philosophy')"
   ]
  },
  {
   "cell_type": "code",
   "execution_count": 120,
   "id": "northern-belize",
   "metadata": {},
   "outputs": [
    {
     "name": "stdout",
     "output_type": "stream",
     "text": [
      "CPU times: user 18.3 s, sys: 1.04 s, total: 19.3 s\n",
      "Wall time: 18.7 s\n"
     ]
    }
   ],
   "source": [
    "%%time\n",
    "for success, info in helpers.parallel_bulk(es, gen, thread_count=2000,chunk_size=2500, queue_size=1000):\n",
    "    if not success:\n",
    "        print('A document failed:', info)"
   ]
  },
  {
   "cell_type": "code",
   "execution_count": 128,
   "id": "bronze-statement",
   "metadata": {},
   "outputs": [
    {
     "name": "stdout",
     "output_type": "stream",
     "text": [
      "TITLE: Ludwig Wittgenstein - SCORE: W3694\n",
      "\n",
      "TITLE: Ludwig Wittgenstein - SCORE: P31\n",
      "\n",
      "CPU times: user 10.3 ms, sys: 92 µs, total: 10.4 ms\n",
      "Wall time: 31.5 ms\n"
     ]
    }
   ],
   "source": [
    "%%time\n",
    "query = \"Ludwig Wittgenstein\"\n",
    "\n",
    "s = Search(using=es, index=\"philosophy\")\n",
    "\n",
    "s.query = Q(\"match\", title=query)\n",
    "s = s[:10]\n",
    "\n",
    "response = s.execute()\n",
    "for hit in response:\n",
    "    print(f\"TITLE: {hit.title} - SCORE: {hit.meta.id}\")\n",
    "    print(\"\")"
   ]
  },
  {
   "cell_type": "code",
   "execution_count": 18,
   "id": "partial-notebook",
   "metadata": {},
   "outputs": [
    {
     "name": "stdout",
     "output_type": "stream",
     "text": [
      "Collecting pymediawiki\n",
      "  Downloading pymediawiki-0.7.0-py3-none-any.whl (23 kB)\n",
      "Requirement already satisfied: requests<3.0.0,>=2.0.0 in /opt/conda/lib/python3.8/site-packages (from pymediawiki) (2.25.1)\n",
      "Requirement already satisfied: beautifulsoup4 in /opt/conda/lib/python3.8/site-packages (from pymediawiki) (4.9.3)\n",
      "Requirement already satisfied: certifi>=2017.4.17 in /opt/conda/lib/python3.8/site-packages (from requests<3.0.0,>=2.0.0->pymediawiki) (2020.12.5)\n",
      "Requirement already satisfied: urllib3<1.27,>=1.21.1 in /opt/conda/lib/python3.8/site-packages (from requests<3.0.0,>=2.0.0->pymediawiki) (1.26.3)\n",
      "Requirement already satisfied: chardet<5,>=3.0.2 in /opt/conda/lib/python3.8/site-packages (from requests<3.0.0,>=2.0.0->pymediawiki) (4.0.0)\n",
      "Requirement already satisfied: idna<3,>=2.5 in /opt/conda/lib/python3.8/site-packages (from requests<3.0.0,>=2.0.0->pymediawiki) (2.10)\n",
      "Requirement already satisfied: soupsieve>1.2 in /opt/conda/lib/python3.8/site-packages (from beautifulsoup4->pymediawiki) (2.0.1)\n",
      "Installing collected packages: pymediawiki\n",
      "Successfully installed pymediawiki-0.7.0\n"
     ]
    }
   ],
   "source": [
    "!pip install pymediawiki"
   ]
  },
  {
   "cell_type": "code",
   "execution_count": null,
   "id": "funny-crazy",
   "metadata": {},
   "outputs": [],
   "source": []
  }
 ],
 "metadata": {
  "kernelspec": {
   "display_name": "Python 3",
   "language": "python",
   "name": "python3"
  },
  "language_info": {
   "codemirror_mode": {
    "name": "ipython",
    "version": 3
   },
   "file_extension": ".py",
   "mimetype": "text/x-python",
   "name": "python",
   "nbconvert_exporter": "python",
   "pygments_lexer": "ipython3",
   "version": "3.8.6"
  }
 },
 "nbformat": 4,
 "nbformat_minor": 5
}
