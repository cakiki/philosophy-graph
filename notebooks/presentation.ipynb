{
 "cells": [
  {
   "cell_type": "code",
   "execution_count": 1,
   "id": "binary-casting",
   "metadata": {
    "slideshow": {
     "slide_type": "skip"
    }
   },
   "outputs": [],
   "source": [
    "from IPython import display\n",
    "import binascii\n",
    "import os\n",
    "\n",
    "def hide_code_in_slideshow():\n",
    "    uid = binascii.hexlify(os.urandom(8)).decode()    \n",
    "    html = \"\"\"<div id=\"%s\"></div>\n",
    "    <script type=\"text/javascript\">\n",
    "        $(function(){\n",
    "            var p = $(\"#%s\");\n",
    "            if (p.length==0) return;\n",
    "            while (!p.hasClass(\"cell\")) {\n",
    "                p=p.parent();\n",
    "                if (p.prop(\"tagName\") ==\"body\") return;\n",
    "            }\n",
    "            var cell = p;\n",
    "            cell.find(\".input\").addClass(\"hide-in-slideshow\")\n",
    "        });\n",
    "    </script>\"\"\" % (uid, uid)\n",
    "    display.display_html(html, raw=True)\n",
    "    \n",
    "%matplotlib inline"
   ]
  },
  {
   "cell_type": "code",
   "execution_count": 2,
   "id": "broke-motivation",
   "metadata": {
    "slideshow": {
     "slide_type": "skip"
    }
   },
   "outputs": [
    {
     "data": {
      "text/html": [
       "<style>\n",
       " .container.slides .celltoolbar, .container.slides .hide-in-slideshow {\n",
       "    display: None ! important;\n",
       "}\n",
       "</style>\n"
      ],
      "text/plain": [
       "<IPython.core.display.HTML object>"
      ]
     },
     "metadata": {},
     "output_type": "display_data"
    }
   ],
   "source": [
    "%%html\n",
    "<style>\n",
    " .container.slides .celltoolbar, .container.slides .hide-in-slideshow {\n",
    "    display: None ! important;\n",
    "}\n",
    "</style>"
   ]
  },
  {
   "cell_type": "markdown",
   "id": "after-kingdom",
   "metadata": {
    "slideshow": {
     "slide_type": "slide"
    }
   },
   "source": [
    "<center><h1>Navigating a Knowledge Base</h1></center>\n",
    "\n",
    "\n",
    "<br>\n",
    "<center>Using Learned Representations for Encyclopedia Navigation</center>\n",
    "<br>\n",
    "<center><small><i>Christopher Akiki</i></small></center>\n",
    "\n",
    "<center><small><i>Wissens- und Content Management WiSe 20/21</i></small></center>"
   ]
  },
  {
   "cell_type": "markdown",
   "id": "acute-psychology",
   "metadata": {
    "slideshow": {
     "slide_type": "slide"
    }
   },
   "source": [
    "<h1>Overview</h1>\n",
    "<br>\n",
    "<ul>\n",
    "    <li><b>Context:</b> Navigating an encyclopedic body of work </li>\n",
    "    <br>\n",
    "    <li><b>Data:</b> Stanford Encyclopedia of Philosophy and Wikipedia Philosophers</li>\n",
    "    <br>\n",
    "    <li><b>Features:</b> Node2vec, Specter and USE</li>\n",
    "    <br>\n",
    "    <li><b>Retrieval:</b> Elasticsearch and k-nearest neighbor</li>\n",
    "</ul>"
   ]
  },
  {
   "cell_type": "markdown",
   "id": "virgin-wrestling",
   "metadata": {
    "slideshow": {
     "slide_type": "slide"
    }
   },
   "source": [
    "# Context: How *not* to consume an encyclopedia\n",
    "\n",
    "\n",
    "> *In 1797, Fath Ali was given a complete set of the Britannica's 3rd edition, which he read completely; after this feat, he extended his royal title to include \"Most Formidable Lord and Master of the Encyclopædia Britannica.\" ([source](https://en.wikipedia.org/wiki/Fath-Ali_Shah_Qajar))*\n",
    "\n",
    "> *The Know-It-All: One Man's Humble Quest to Become the Smartest Person in the World is a book by Esquire editor A. J. Jacobs, published in 2004. It recounts his experience of reading the entire Encyclopædia Britannica; all 32 volumes of the 2002 edition, extending to over 33,000 pages with some 44 million words. He set out on this endeavour to become the \"smartest person in the world\". The book is organized alphabetically in encyclopedia format and recounts both interesting facts from the encyclopedia and the author's experiences.* ([source](https://en.wikipedia.org/wiki/The_Know-It-All))\n",
    "\n",
    "> *In 2008, Ammon Shea published his account of reading the complete Oxford English Dictionary.* ([source](https://en.wikipedia.org/wiki/The_Know-It-All))"
   ]
  },
  {
   "cell_type": "markdown",
   "id": "tutorial-minneapolis",
   "metadata": {
    "slideshow": {
     "slide_type": "subslide"
    }
   },
   "source": [
    "<h1>Context: How to consume an encyclopedia</h1>\n",
    "<br>\n",
    "<ul>\n",
    "    <li><b>Encyclopedias:</b> Distillation of human knowledge </li>\n",
    "    <br>\n",
    "    <li><b>Goal of this project:</b>  Facilitate the consumption of a medium that is only meant for direct and targeted consumption</li>\n",
    "    <br>\n",
    "    <li><b>Problems:</b> Huge scale of encyclopedic knowledge bases</li>\n",
    "    <br>\n",
    "    <li><b>Solution:</b> Reduce the problem to one topical corner; <u>philosophy</u></li>\n",
    "</ul>"
   ]
  },
  {
   "cell_type": "markdown",
   "id": "laughing-fellow",
   "metadata": {
    "slideshow": {
     "slide_type": "notes"
    }
   },
   "source": [
    "Context: Encyclopedias are the archetypical distillation of human knowledge that is meant to be consumed by a large subsection of people, as opposed to say the kind of knowledge one finds in research papers. The dynamics of their creation as distributed "
   ]
  },
  {
   "cell_type": "markdown",
   "id": "ready-dairy",
   "metadata": {
    "slideshow": {
     "slide_type": "slide"
    }
   },
   "source": [
    "<h1>Data: <i>In vivo</i></h1>\n",
    "<br>\n",
    "<br>\n",
    "<ul>\n",
    "    <li><b>The Stanford Encyclopedia of Philosophy:</b><a href=https://plato.stanford.edu/contents.html> All Articles</a></li>\n",
    "    <br>\n",
    "    <br>\n",
    "    <li><b>All Wikipedia Philosophers:</b> All philosophers on Wikipedia</li>\n",
    "    <br>\n",
    "</ul>"
   ]
  },
  {
   "cell_type": "markdown",
   "id": "separate-parameter",
   "metadata": {
    "slideshow": {
     "slide_type": "subslide"
    }
   },
   "source": [
    "<h1>Data: Scraping</h1>\n",
    "<br>\n",
    "<br>\n",
    "<ul>\n",
    "    <li><b>The Stanford Encyclopedia of Philosophy:</b> Scrapy</li>\n",
    "    <br>\n",
    "    <br>\n",
    "    <li><b>All Wikipedia Philosophers:</b> Local DBPedia instance</li>\n",
    "</ul>\n",
    "<br>\n",
    "\n",
    "[Scrapy notebook](scraping_plato.ipynb) / [DBPedia notebook](scraping_wiki_dbpedia.ipynb)"
   ]
  },
  {
   "cell_type": "markdown",
   "id": "impressive-variable",
   "metadata": {
    "slideshow": {
     "slide_type": "subslide"
    }
   },
   "source": [
    "# Data: *In vitro*"
   ]
  },
  {
   "cell_type": "code",
   "execution_count": 7,
   "id": "quarterly-teens",
   "metadata": {
    "slideshow": {
     "slide_type": "fragment"
    }
   },
   "outputs": [
    {
     "name": "stdout",
     "output_type": "stream",
     "text": [
      "dbpedia.pkl\t\t\tplato_undirected.graphml\r\n",
      "dbpedia_with_articles.pkl\tspectre_embeddings.npy\r\n",
      "homophily_plato_embeddings.npy\tstructural_plato_embeddings.npy\r\n",
      "homophily_wiki_embeddings.npy\tstructural_wiki_embeddings.npy\r\n",
      "node2vec_v1\t\t\tto_index.csv\r\n",
      "old_node2vec_embeddings\t\tto_index_p4.pkl\r\n",
      "plato_directed.gephi\t\tto_index.pkl\r\n",
      "plato_directed.graphml\t\tuse_abstract_embeddings.npy\r\n",
      "plato.pkl\t\t\tuse_article_embeddings.npy\r\n"
     ]
    }
   ],
   "source": [
    "!ls ../data/"
   ]
  },
  {
   "cell_type": "markdown",
   "id": "liable-religious",
   "metadata": {
    "slideshow": {
     "slide_type": "notes"
    }
   },
   "source": [
    "Do example of Bentham for both encyclopedias (have it open)"
   ]
  },
  {
   "cell_type": "markdown",
   "id": "innovative-retrieval",
   "metadata": {
    "slideshow": {
     "slide_type": "slide"
    }
   },
   "source": [
    "# Features"
   ]
  },
  {
   "cell_type": "markdown",
   "id": "educational-europe",
   "metadata": {
    "slideshow": {
     "slide_type": "slide"
    }
   },
   "source": [
    "# Retrieval"
   ]
  }
 ],
 "metadata": {
  "celltoolbar": "Slideshow",
  "kernelspec": {
   "display_name": "Python 3",
   "language": "python",
   "name": "python3"
  },
  "language_info": {
   "codemirror_mode": {
    "name": "ipython",
    "version": 3
   },
   "file_extension": ".py",
   "mimetype": "text/x-python",
   "name": "python",
   "nbconvert_exporter": "python",
   "pygments_lexer": "ipython3",
   "version": "3.8.6"
  }
 },
 "nbformat": 4,
 "nbformat_minor": 5
}
