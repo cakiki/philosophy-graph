{
 "cells": [
  {
   "cell_type": "code",
   "execution_count": 1,
   "metadata": {},
   "outputs": [
    {
     "data": {
      "text/html": [
       "<style>.container { width:80% !important; }</style>"
      ],
      "text/plain": [
       "<IPython.core.display.HTML object>"
      ]
     },
     "metadata": {},
     "output_type": "display_data"
    }
   ],
   "source": [
    "from IPython.core.display import display, HTML\n",
    "display(HTML(\"<style>.container { width:80% !important; }</style>\"))"
   ]
  },
  {
   "cell_type": "code",
   "execution_count": null,
   "metadata": {},
   "outputs": [],
   "source": [
    "!pip install sparqlwrapper node2vec"
   ]
  },
  {
   "cell_type": "code",
   "execution_count": null,
   "metadata": {},
   "outputs": [],
   "source": [
    "from bs4 import BeautifulSoup\n",
    "from urllib import request\n",
    "from itertools import chain\n",
    "from SPARQLWrapper import SPARQLWrapper, JSON\n",
    "import pandas as pd\n",
    "import networkx as nx\n",
    "from node2vec.edges import HadamardEmbedder\n",
    "from node2vec import Node2Vec"
   ]
  },
  {
   "cell_type": "code",
   "execution_count": null,
   "metadata": {},
   "outputs": [],
   "source": [
    "def philosopher_influenced(philosopher_url):\n",
    "    sparql = SPARQLWrapper(\"http://localhost:8890/sparql\")\n",
    "    sparql.setQuery(\"\"\"\n",
    "        PREFIX rdfs: <http://www.w3.org/2000/01/rdf-schema#>\n",
    "        SELECT ?influenced\n",
    "        WHERE {{ <http://dbpedia.org/resource/{x}> dbo:influenced ?influenced }}\n",
    "    \"\"\".format(x=philosopher_url))\n",
    "    sparql.setReturnFormat(JSON)\n",
    "    results = sparql.query().convert()\n",
    "\n",
    "    direct_results = [result['influenced']['value'] for result in results['results']['bindings']]\n",
    "\n",
    "    sparql.setQuery(\"\"\"\n",
    "    PREFIX rdfs: <http://www.w3.org/2000/01/rdf-schema#>\n",
    "    SELECT ?influenced\n",
    "    WHERE {{ <http://dbpedia.org/resource/{x}> ^dbo:influencedBy ?influenced }}\n",
    "    \"\"\".format(x=philosopher_url))\n",
    "    sparql.setReturnFormat(JSON)\n",
    "    results = sparql.query().convert()\n",
    "    indirect_results = [result['influenced']['value'] for result in results['results']['bindings']]\n",
    "    results = list(set(direct_results+indirect_results))\n",
    "    return [result.split('/')[-1] for result in results]"
   ]
  },
  {
   "cell_type": "code",
   "execution_count": null,
   "metadata": {},
   "outputs": [],
   "source": [
    "def philosopher_influenced_by(philosopher_url):\n",
    "    sparql = SPARQLWrapper(\"http://localhost:8890/sparql\")\n",
    "    sparql.setQuery(\"\"\"\n",
    "        PREFIX rdfs: <http://www.w3.org/2000/01/rdf-schema#>\n",
    "        SELECT ?influencedBy\n",
    "        WHERE {{ <http://dbpedia.org/resource/{x}> dbo:influencedBy ?influencedBy }}\n",
    "    \"\"\".format(x=philosopher_url))\n",
    "    sparql.setReturnFormat(JSON)\n",
    "    results = sparql.query().convert()\n",
    "\n",
    "    direct_results = [result['influencedBy']['value'] for result in results['results']['bindings']]\n",
    "\n",
    "    sparql.setQuery(\"\"\"\n",
    "    PREFIX rdfs: <http://www.w3.org/2000/01/rdf-schema#>\n",
    "    SELECT ?influencedBy\n",
    "    WHERE {{ <http://dbpedia.org/resource/{x}> ^dbo:influenced ?influencedBy }}\n",
    "    \"\"\".format(x=philosopher_url))\n",
    "    sparql.setReturnFormat(JSON)\n",
    "    results = sparql.query().convert()\n",
    "    indirect_results = [result['influencedBy']['value'] for result in results['results']['bindings']]\n",
    "    results = list(set(direct_results+indirect_results))\n",
    "    return [result.split('/')[-1] for result in results]"
   ]
  },
  {
   "cell_type": "code",
   "execution_count": null,
   "metadata": {},
   "outputs": [],
   "source": [
    "philosopher_influenced('John_Locke')"
   ]
  },
  {
   "cell_type": "code",
   "execution_count": null,
   "metadata": {},
   "outputs": [],
   "source": [
    "philosopher_influenced_by('Jeremy_Bentham')"
   ]
  },
  {
   "cell_type": "code",
   "execution_count": null,
   "metadata": {},
   "outputs": [],
   "source": [
    "a[0].split('/')"
   ]
  },
  {
   "cell_type": "code",
   "execution_count": null,
   "metadata": {},
   "outputs": [],
   "source": [
    "philosopher='Jeremy_Bentham'\n",
    "sparql = SPARQLWrapper(\"http://dbpedia.org/sparql\")\n",
    "sparql.setQuery(\"\"\"\n",
    "    PREFIX rdfs: <http://www.w3.org/2000/01/rdf-schema#>\n",
    "    SELECT ?p ?o\n",
    "    WHERE {{ <http://dbpedia.org/resource/{x}> ?p ?o}}\n",
    "\"\"\".format(x=philosopher))\n",
    "sparql.setReturnFormat(JSON)\n",
    "results = sparql.query().convert()\n",
    "\n",
    "results"
   ]
  },
  {
   "cell_type": "code",
   "execution_count": null,
   "metadata": {},
   "outputs": [],
   "source": [
    "len(results['results']['bindings'])"
   ]
  },
  {
   "cell_type": "code",
   "execution_count": null,
   "metadata": {},
   "outputs": [],
   "source": [
    "philosophers_a_c = 'https://en.wikipedia.org/wiki/List_of_philosophers_(A%E2%80%93C)'\n",
    "philosophers_d_h = 'https://en.wikipedia.org/wiki/List_of_philosophers_(D%E2%80%93H)'\n",
    "philosophers_i_q = 'https://en.wikipedia.org/wiki/List_of_philosophers_(I%E2%80%93Q)'\n",
    "philosophers_r_z = 'https://en.wikipedia.org/wiki/List_of_philosophers_(R%E2%80%93Z)'\n",
    "\n",
    "list_url = [philosophers_a_c, philosophers_d_h, philosophers_i_q, philosophers_r_z]\n",
    "n_letters = [4, 6, 10, 10]"
   ]
  },
  {
   "cell_type": "code",
   "execution_count": null,
   "metadata": {},
   "outputs": [],
   "source": [
    "def get_philosopher_urls(list_url, n_letters):\n",
    "    response = request.urlopen(list_url)\n",
    "    html = response.read()\n",
    "    soup  = BeautifulSoup(html, 'html.parser')\n",
    "    philosopher_urls = [thing.select('a[href*=\"wiki/\"]') for thing in soup.find_all('ul')[1:n_letters]]\n",
    "    philosopher_urls = chain(*philosopher_urls)\n",
    "    philosopher_urls = [thing['href'] for thing in philosopher_urls]\n",
    "    return philosopher_urls"
   ]
  },
  {
   "cell_type": "code",
   "execution_count": null,
   "metadata": {},
   "outputs": [],
   "source": [
    "%%time\n",
    "urls = [get_philosopher_urls(list_url=a, n_letters=b) for a,b in zip(list_url, n_letters)]"
   ]
  },
  {
   "cell_type": "code",
   "execution_count": null,
   "metadata": {},
   "outputs": [],
   "source": [
    "urls = list(chain(*urls))"
   ]
  },
  {
   "cell_type": "code",
   "execution_count": null,
   "metadata": {},
   "outputs": [],
   "source": [
    "urls = [url.split('/wiki/')[-1] for url in urls]"
   ]
  },
  {
   "cell_type": "code",
   "execution_count": null,
   "metadata": {},
   "outputs": [],
   "source": [
    "wikipedia_philosophers = urls"
   ]
  },
  {
   "cell_type": "code",
   "execution_count": null,
   "metadata": {},
   "outputs": [],
   "source": [
    "set([thing[0] for thing in sorted(urls)])"
   ]
  },
  {
   "cell_type": "code",
   "execution_count": null,
   "metadata": {},
   "outputs": [],
   "source": [
    "sparql = SPARQLWrapper(\"http://dbpedia.org/sparql\")\n",
    "sparql.setQuery(\"\"\"\n",
    "    PREFIX rdfs: <http://www.w3.org/2000/01/rdf-schema#>\n",
    "    SELECT ?person\n",
    "    WHERE { ?person a dbo:Philosopher}\n",
    "\"\"\")\n",
    "sparql.setReturnFormat(JSON)\n",
    "results = sparql.query().convert()\n",
    "\n",
    "dbpedia_philosophers = [result['person']['value'].split('/')[-1] for result in results['results']['bindings']]"
   ]
  },
  {
   "cell_type": "code",
   "execution_count": null,
   "metadata": {},
   "outputs": [],
   "source": [
    "philosophers = list(set(wikipedia_philosophers+dbpedia_philosophers))"
   ]
  },
  {
   "cell_type": "code",
   "execution_count": null,
   "metadata": {},
   "outputs": [],
   "source": [
    "philosophers"
   ]
  },
  {
   "cell_type": "code",
   "execution_count": null,
   "metadata": {},
   "outputs": [],
   "source": [
    "def get_name(philosopher_url):\n",
    "    sparql = SPARQLWrapper(\"http://localhost:8890/sparql\")\n",
    "    sparql.setQuery(\"\"\"\n",
    "                    PREFIX dbo: <http://dbpedia.org/ontology/>\n",
    "                    PREFIX rdfs: <http://www.w3.org/2000/01/rdf-schema#>\n",
    "                    SELECT ?name\n",
    "                    WHERE {{ <http://dbpedia.org/resource/{x}> dbp:name ?name}}\n",
    "                    \"\"\".format(x=philosopher_url))\n",
    "    sparql.setReturnFormat(JSON)\n",
    "    results = sparql.query().convert()\n",
    "\n",
    "    return [result['name']['value'] for result in results['results']['bindings']]"
   ]
  },
  {
   "cell_type": "code",
   "execution_count": null,
   "metadata": {},
   "outputs": [],
   "source": [
    "def get_title(url):\n",
    "    sparql = SPARQLWrapper(\"http://localhost:8890/sparql\")\n",
    "    sparql.setQuery(\"\"\"\n",
    "                    PREFIX dbo: <http://dbpedia.org/ontology/>\n",
    "                    PREFIX rdfs: <http://www.w3.org/2000/01/rdf-schema#>\n",
    "                    SELECT ?title\n",
    "                    WHERE {{ <http://dbpedia.org/resource/{x}> dbp:title ?title}}\n",
    "                    \"\"\".format(x=url))\n",
    "    sparql.setReturnFormat(JSON)\n",
    "    results = sparql.query().convert()\n",
    "\n",
    "    return [result['title']['value'] for result in results['results']['bindings']]"
   ]
  },
  {
   "cell_type": "code",
   "execution_count": null,
   "metadata": {},
   "outputs": [],
   "source": [
    "def get_notable_ideas(philosopher_url):\n",
    "    sparql = SPARQLWrapper(\"http://localhost:8890/sparql\")\n",
    "    sparql.setQuery(\"\"\"\n",
    "                    PREFIX dbo: <http://dbpedia.org/ontology/>\n",
    "                    PREFIX rdfs: <http://www.w3.org/2000/01/rdf-schema#>\n",
    "                    SELECT ?idea\n",
    "                    WHERE {{ <http://dbpedia.org/resource/{x}> dbo:notableIdea ?idea}}\n",
    "                    \"\"\".format(x=philosopher_url))\n",
    "    sparql.setReturnFormat(JSON)\n",
    "    results = sparql.query().convert()\n",
    "    return [result['idea']['value'] for result in results['results']['bindings']]"
   ]
  },
  {
   "cell_type": "code",
   "execution_count": null,
   "metadata": {},
   "outputs": [],
   "source": [
    "def get_abstract(url):\n",
    "    sparql = SPARQLWrapper(\"http://localhost:8890/sparql\")\n",
    "    sparql.setQuery(\"\"\"\n",
    "                    PREFIX dbo: <http://dbpedia.org/ontology/>\n",
    "                    PREFIX rdfs: <http://www.w3.org/2000/01/rdf-schema#>\n",
    "                    SELECT ?abstract\n",
    "                    WHERE {{ <http://dbpedia.org/resource/{x}> dbo:abstract ?abstract}}\n",
    "                    \"\"\".format(x=url))\n",
    "    sparql.setReturnFormat(JSON)\n",
    "    results = sparql.query().convert()\n",
    "#     return results['results']['bindings']\n",
    "    return [result['abstract']['value'] for result in results['results']['bindings'] if result['abstract']['xml:lang']=='en'][0]"
   ]
  },
  {
   "cell_type": "code",
   "execution_count": null,
   "metadata": {},
   "outputs": [],
   "source": [
    "get_abstract('Syllogism')"
   ]
  },
  {
   "cell_type": "code",
   "execution_count": null,
   "metadata": {},
   "outputs": [],
   "source": [
    "get_notable_ideas('Aristotle')"
   ]
  },
  {
   "cell_type": "code",
   "execution_count": null,
   "metadata": {},
   "outputs": [],
   "source": [
    "from SPARQLWrapper import SPARQLWrapper, JSON\n",
    "philosopher='Joseph_Butler'\n",
    "sparql = SPARQLWrapper(\"http://localhost:8890/sparql\")\n",
    "sparql.setQuery(\"\"\"\n",
    "    PREFIX rdfs: <http://www.w3.org/2000/01/rdf-schema#>\n",
    "    SELECT ?influenced\n",
    "    WHERE {{ <http://dbpedia.org/resource/{x}> dbo:influenced ?influenced }}\n",
    "\"\"\".format(x=philosopher))\n",
    "sparql.setReturnFormat(JSON)\n",
    "results = sparql.query().convert()\n",
    "\n",
    "results"
   ]
  },
  {
   "cell_type": "code",
   "execution_count": null,
   "metadata": {},
   "outputs": [],
   "source": [
    "get_title('On_the_Soul')"
   ]
  },
  {
   "cell_type": "code",
   "execution_count": null,
   "metadata": {},
   "outputs": [],
   "source": [
    "def get_name(philosopher_url):\n",
    "    sparql = SPARQLWrapper(\"http://localhost:8890/sparql\")\n",
    "    sparql.setQuery(\"\"\"\n",
    "                    PREFIX dbo: <http://dbpedia.org/ontology/>\n",
    "                    PREFIX rdfs: <http://www.w3.org/2000/01/rdf-schema#>\n",
    "                    SELECT ?name\n",
    "                    WHERE {{ <http://dbpedia.org/resource/{x}> dbp:name ?name}}\n",
    "                    \"\"\".format(x=philosopher_url))\n",
    "    sparql.setReturnFormat(JSON)\n",
    "    results = sparql.query().convert()\n",
    "\n",
    "    return [result['name']['value'] for result in results['results']['bindings']]"
   ]
  },
  {
   "cell_type": "code",
   "execution_count": null,
   "metadata": {},
   "outputs": [],
   "source": []
  },
  {
   "cell_type": "code",
   "execution_count": null,
   "metadata": {},
   "outputs": [],
   "source": []
  },
  {
   "cell_type": "code",
   "execution_count": null,
   "metadata": {},
   "outputs": [],
   "source": [
    "dataset = pd.DataFrame(pd.Series(philosophers), columns=['philosopher_uri'])"
   ]
  },
  {
   "cell_type": "code",
   "execution_count": null,
   "metadata": {},
   "outputs": [],
   "source": [
    "%%time\n",
    "dataset['names'] = dataset['philosopher_uri'].apply(get_name)\n",
    "dataset"
   ]
  },
  {
   "cell_type": "code",
   "execution_count": null,
   "metadata": {},
   "outputs": [],
   "source": [
    "%%time\n",
    "dataset['influenced_by'] = dataset['philosopher_uri'].apply(philosopher_influenced_by)\n",
    "dataset['influenced'] = dataset['philosopher_uri'].apply(philosopher_influenced)"
   ]
  },
  {
   "cell_type": "code",
   "execution_count": null,
   "metadata": {},
   "outputs": [],
   "source": [
    "dataset['undirected_adjacency_list'] = dataset.apply(lambda x: list(set(x['influenced_by']+x['influenced'])),axis=1)"
   ]
  },
  {
   "cell_type": "code",
   "execution_count": null,
   "metadata": {},
   "outputs": [],
   "source": [
    "dataset = dataset[dataset['undirected_adjacency_list'].apply(bool)]"
   ]
  },
  {
   "cell_type": "code",
   "execution_count": null,
   "metadata": {},
   "outputs": [],
   "source": [
    "dataset.to_pickle('philosophers.pkl')"
   ]
  },
  {
   "cell_type": "code",
   "execution_count": null,
   "metadata": {},
   "outputs": [],
   "source": [
    "dataset = pd.read_pickle('philosophers.pkl')"
   ]
  },
  {
   "cell_type": "code",
   "execution_count": null,
   "metadata": {},
   "outputs": [],
   "source": [
    "dataset"
   ]
  },
  {
   "cell_type": "code",
   "execution_count": null,
   "metadata": {},
   "outputs": [],
   "source": [
    "network = dataset[['philosopher_uri', 'undirected_adjacency_list']]"
   ]
  },
  {
   "cell_type": "code",
   "execution_count": null,
   "metadata": {},
   "outputs": [],
   "source": [
    "network"
   ]
  },
  {
   "cell_type": "code",
   "execution_count": null,
   "metadata": {},
   "outputs": [],
   "source": [
    "graph = nx.Graph(network.set_index('philosopher_uri').to_dict()['undirected_adjacency_list'])"
   ]
  },
  {
   "cell_type": "code",
   "execution_count": null,
   "metadata": {},
   "outputs": [],
   "source": [
    "nx.draw(graph)"
   ]
  },
  {
   "cell_type": "code",
   "execution_count": null,
   "metadata": {},
   "outputs": [],
   "source": [
    "network.set_index('philosopher_uri').to_dict"
   ]
  },
  {
   "cell_type": "code",
   "execution_count": null,
   "metadata": {},
   "outputs": [],
   "source": [
    "nx.write_graphml(graph, 'philosophers.graphml')"
   ]
  },
  {
   "cell_type": "code",
   "execution_count": null,
   "metadata": {},
   "outputs": [],
   "source": []
  },
  {
   "cell_type": "code",
   "execution_count": 2,
   "metadata": {},
   "outputs": [],
   "source": [
    "from node2vec import Node2Vec"
   ]
  },
  {
   "cell_type": "code",
   "execution_count": 3,
   "metadata": {},
   "outputs": [],
   "source": [
    "Node2Vec?"
   ]
  },
  {
   "cell_type": "code",
   "execution_count": null,
   "metadata": {},
   "outputs": [],
   "source": [
    "%%time\n",
    "node2vec = Node2Vec(graph, dimensions=64, walk_length=30, num_walks=200, workers=8)"
   ]
  },
  {
   "cell_type": "code",
   "execution_count": null,
   "metadata": {},
   "outputs": [],
   "source": [
    "Node2Vec?"
   ]
  },
  {
   "cell_type": "code",
   "execution_count": null,
   "metadata": {},
   "outputs": [],
   "source": [
    "%%time\n",
    "model = node2vec.fit(window=10, min_count=1, batch_words=4)"
   ]
  },
  {
   "cell_type": "code",
   "execution_count": null,
   "metadata": {},
   "outputs": [],
   "source": [
    "model.wv.most_similar('Bertrand_Russell', topn=50)"
   ]
  },
  {
   "cell_type": "code",
   "execution_count": null,
   "metadata": {},
   "outputs": [],
   "source": [
    "model.wv.most_similar('Arabic', topn=50)"
   ]
  },
  {
   "cell_type": "code",
   "execution_count": null,
   "metadata": {},
   "outputs": [],
   "source": [
    "model.wv['Immanuel_Kant']"
   ]
  },
  {
   "cell_type": "code",
   "execution_count": null,
   "metadata": {},
   "outputs": [],
   "source": [
    "model.save('node2vec_v1')"
   ]
  },
  {
   "cell_type": "code",
   "execution_count": null,
   "metadata": {},
   "outputs": [],
   "source": [
    "dir(node2vec.node2vec)"
   ]
  },
  {
   "cell_type": "code",
   "execution_count": null,
   "metadata": {},
   "outputs": [],
   "source": [
    "network"
   ]
  },
  {
   "cell_type": "code",
   "execution_count": null,
   "metadata": {},
   "outputs": [],
   "source": [
    "%%time\n",
    "edges_embs = HadamardEmbedder(keyed_vectors=model.wv)"
   ]
  },
  {
   "cell_type": "code",
   "execution_count": null,
   "metadata": {},
   "outputs": [],
   "source": [
    "%%time\n",
    "edges_kv = edges_embs.as_keyed_vectors()"
   ]
  },
  {
   "cell_type": "code",
   "execution_count": null,
   "metadata": {},
   "outputs": [],
   "source": [
    "len(edges_kv.vocab)"
   ]
  },
  {
   "cell_type": "code",
   "execution_count": null,
   "metadata": {},
   "outputs": [],
   "source": [
    "edges_kv.most_similar(\"('Aristotle', 'Plato')\", topn=50)"
   ]
  },
  {
   "cell_type": "code",
   "execution_count": null,
   "metadata": {},
   "outputs": [],
   "source": [
    "sum(nx.to_pandas_adjacency(graph)['Arabic']==0.0)"
   ]
  },
  {
   "cell_type": "code",
   "execution_count": null,
   "metadata": {
    "scrolled": false
   },
   "outputs": [],
   "source": [
    "!pip install umap-learn[plot]"
   ]
  },
  {
   "cell_type": "code",
   "execution_count": null,
   "metadata": {},
   "outputs": [],
   "source": [
    "model.vocabulary"
   ]
  },
  {
   "cell_type": "code",
   "execution_count": null,
   "metadata": {},
   "outputs": [],
   "source": [
    "dic = {node:model.wv[node] for node in graph.nodes}\n",
    "pd.DataFrame(dic).T"
   ]
  },
  {
   "cell_type": "code",
   "execution_count": null,
   "metadata": {},
   "outputs": [],
   "source": [
    "embeddings = pd.DataFrame(dic).T.values"
   ]
  },
  {
   "cell_type": "code",
   "execution_count": null,
   "metadata": {},
   "outputs": [],
   "source": [
    "import umap\n",
    "reducer = umap.UMAP()"
   ]
  },
  {
   "cell_type": "code",
   "execution_count": null,
   "metadata": {},
   "outputs": [],
   "source": [
    "mapper = umap.UMAP().fit(embeddings)"
   ]
  },
  {
   "cell_type": "code",
   "execution_count": null,
   "metadata": {},
   "outputs": [],
   "source": [
    "%%time\n",
    "embeddings_2d = reducer.fit_transform(embeddings)"
   ]
  },
  {
   "cell_type": "code",
   "execution_count": null,
   "metadata": {},
   "outputs": [],
   "source": [
    "embeddings_2d"
   ]
  },
  {
   "cell_type": "code",
   "execution_count": null,
   "metadata": {},
   "outputs": [],
   "source": [
    "import matplotlib.pyplot as plt\n",
    "import seaborn as sns\n",
    "import pandas as pd\n",
    "%matplotlib notebook"
   ]
  },
  {
   "cell_type": "code",
   "execution_count": null,
   "metadata": {},
   "outputs": [],
   "source": [
    "plt.scatter(\n",
    "    embeddings_2d[:, 0],\n",
    "    embeddings_2d[:, 1])"
   ]
  },
  {
   "cell_type": "code",
   "execution_count": null,
   "metadata": {},
   "outputs": [],
   "source": [
    "import umap.plot"
   ]
  },
  {
   "cell_type": "code",
   "execution_count": null,
   "metadata": {},
   "outputs": [],
   "source": [
    "umap.plot.points(mapper, theme='fire')"
   ]
  },
  {
   "cell_type": "code",
   "execution_count": null,
   "metadata": {},
   "outputs": [],
   "source": []
  }
 ],
 "metadata": {
  "kernelspec": {
   "display_name": "Python 3",
   "language": "python",
   "name": "python3"
  },
  "language_info": {
   "codemirror_mode": {
    "name": "ipython",
    "version": 3
   },
   "file_extension": ".py",
   "mimetype": "text/x-python",
   "name": "python",
   "nbconvert_exporter": "python",
   "pygments_lexer": "ipython3",
   "version": "3.8.6"
  }
 },
 "nbformat": 4,
 "nbformat_minor": 4
}
